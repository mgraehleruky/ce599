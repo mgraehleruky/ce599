{
 "cells": [
  {
   "cell_type": "code",
   "execution_count": 2,
   "metadata": {},
   "outputs": [],
   "source": [
    "import build_road\n",
    "from Road import Road\n",
    "import pandas as pd\n",
    "import sys"
   ]
  },
  {
   "cell_type": "code",
   "execution_count": 39,
   "metadata": {},
   "outputs": [],
   "source": [
    "#craete new class for the Car from script\n",
    "\n",
    "class Car(object):\n",
    "    def __init__(self, color, loc, direction):\n",
    "        \n",
    "        #see if we are given a valid location\n",
    "        if len(loc) < 2 or len(loc) > 2:\n",
    "            print('Please enter a valid location.')\n",
    "        else:    \n",
    "            self.x = loc[0] \n",
    "            self.y = loc[1]\n",
    "            self.direction = direction\n",
    "            self.color = color\n",
    "            self.location = loc"
   ]
  },
  {
   "cell_type": "code",
   "execution_count": 40,
   "metadata": {},
   "outputs": [],
   "source": [
    "def move(self, number, move):\n",
    "    if move == 'backward':\n",
    "        if self.direction == 'N':\n",
    "            self.y = self.y - number\n",
    "        elif self.direction == 'S':\n",
    "            self.y = self.y + number\n",
    "        elif self.direction == 'E':\n",
    "            self.x = self.x - number\n",
    "        elif self.direction == 'W':\n",
    "            self.x = self.x + number\n",
    "        else:\n",
    "            print('Pick a direction: N,S,E,W')\n",
    "        self.location = [self.x,self.y]   \n",
    "        \n",
    "    elif move == 'forward':\n",
    "\n",
    "        if self.direction == 'N':\n",
    "            self.y = self.y + number\n",
    "        elif self.direction == 'S':\n",
    "            self.y = self.y - number\n",
    "        elif self.direction == 'E':\n",
    "            self.x = self.x + number\n",
    "        elif self.direction == 'W':\n",
    "            self.x = self.x - number\n",
    "        else:\n",
    "            print('Pick a direction: N,S,E,W')\n",
    "        self.location = [self.x,self.y]\n",
    "        \n",
    "    else:\n",
    "        print('Choose forward or backward')"
   ]
  },
  {
   "cell_type": "code",
   "execution_count": 41,
   "metadata": {},
   "outputs": [],
   "source": [
    "#turn the car right.. so clockwise on a compass\n",
    "\n",
    "def right_turn(self):\n",
    "    if self.direction == 'N':\n",
    "        self.direction = 'E'\n",
    "    elif self.direction == 'S':\n",
    "        self.direction = 'W'\n",
    "    elif self.direction == 'E':\n",
    "        self.direction = 'S'\n",
    "    elif self.direction == 'W':\n",
    "        self.direction = 'N'\n",
    "    else:\n",
    "        print('You must select a valid option')"
   ]
  },
  {
   "cell_type": "code",
   "execution_count": 42,
   "metadata": {},
   "outputs": [],
   "source": [
    "#turn the car left.. so counterclockwise on a compass\n",
    "\n",
    "def left_turn(self):\n",
    "        if self.direction == 'N':\n",
    "            self.direction = 'W'\n",
    "        elif self.direction == 'S':\n",
    "            self.direction = 'E'\n",
    "        elif self.direction == 'E':\n",
    "            self.direction = 'N'\n",
    "        elif self.direction == 'W':\n",
    "            self.direction = 'S'\n",
    "        else:\n",
    "            print('You must select a valid option')"
   ]
  },
  {
   "cell_type": "code",
   "execution_count": 43,
   "metadata": {},
   "outputs": [],
   "source": [
    "#try out a few things with the car we are creating\n",
    "\n",
    "mycar = Car(color = 'blue', loc = [2,4], direction = 'E')"
   ]
  },
  {
   "cell_type": "code",
   "execution_count": 44,
   "metadata": {},
   "outputs": [
    {
     "name": "stdout",
     "output_type": "stream",
     "text": [
      "E\n"
     ]
    }
   ],
   "source": [
    "print(mycar.direction)"
   ]
  },
  {
   "cell_type": "code",
   "execution_count": 45,
   "metadata": {},
   "outputs": [
    {
     "name": "stdout",
     "output_type": "stream",
     "text": [
      "N\n"
     ]
    }
   ],
   "source": [
    "#car is facing East.. let's change that\n",
    "\n",
    "left_turn(mycar)\n",
    "print(mycar.direction)"
   ]
  },
  {
   "cell_type": "code",
   "execution_count": 46,
   "metadata": {},
   "outputs": [
    {
     "name": "stdout",
     "output_type": "stream",
     "text": [
      "Please enter a valid location.\n"
     ]
    }
   ],
   "source": [
    "#let's try to break a new car and see if error message works\n",
    "\n",
    "myothercar = Car(color = 'blue', loc = [1,2,3], direction = 'N')"
   ]
  },
  {
   "cell_type": "code",
   "execution_count": 47,
   "metadata": {},
   "outputs": [
    {
     "name": "stdout",
     "output_type": "stream",
     "text": [
      "W\n"
     ]
    }
   ],
   "source": [
    "#a few more turns\n",
    "\n",
    "left_turn(mycar)\n",
    "print(mycar.direction)"
   ]
  },
  {
   "cell_type": "code",
   "execution_count": 56,
   "metadata": {},
   "outputs": [
    {
     "name": "stdout",
     "output_type": "stream",
     "text": [
      "[802, 4]\n"
     ]
    }
   ],
   "source": [
    "#move this car pls\n",
    "\n",
    "move(mycar, 100, 'backward')\n",
    "print(mycar.location)"
   ]
  }
 ],
 "metadata": {
  "kernelspec": {
   "display_name": "Python 3",
   "language": "python",
   "name": "python3"
  },
  "language_info": {
   "codemirror_mode": {
    "name": "ipython",
    "version": 3
   },
   "file_extension": ".py",
   "mimetype": "text/x-python",
   "name": "python",
   "nbconvert_exporter": "python",
   "pygments_lexer": "ipython3",
   "version": "3.6.4"
  }
 },
 "nbformat": 4,
 "nbformat_minor": 2
}
