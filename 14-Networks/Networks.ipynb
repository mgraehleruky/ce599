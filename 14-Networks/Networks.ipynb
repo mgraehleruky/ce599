{
 "cells": [
  {
   "cell_type": "markdown",
   "metadata": {},
   "source": [
    "# Networks\n",
    "\n",
    "This lesson introduces the network data structure.  Aspects of this lesson are adapted from Andrew Brooks' tutorial on graph optimization.  \n",
    "\n",
    "https://www.datacamp.com/community/tutorials/networkx-python-graph-tutorial\n",
    "\n",
    "It also draws from theory material presented at PyCon 2015 by Celia La and Sarah Guido.  \n",
    "\n",
    "https://github.com/sarguido/networkx-tutorial\n",
    "\n",
    "You will need to install two packages:\n",
    "\n",
    "pip install networkx\n",
    "pip install imageio\n",
    "\n",
    "The networkx documentation is here: \n",
    "\n",
    "https://networkx.github.io/"
   ]
  },
  {
   "cell_type": "code",
<<<<<<< HEAD
   "execution_count": 1,
=======
   "execution_count": null,
>>>>>>> upstream/master
   "metadata": {
    "collapsed": true
   },
   "outputs": [],
   "source": [
    "# imports\n",
    "import pandas as pd\n",
    "import networkx as nx\n",
    "import matplotlib.pyplot as plt\n",
    "\n",
    "%matplotlib inline"
   ]
  },
  {
   "cell_type": "markdown",
   "metadata": {
    "collapsed": true
   },
   "source": [
    "# Intro to NetworkX\n",
    "\n",
    "### Adding & editing graph nodes\n",
    "\n",
    "We'll first take a look at creating a graph, and adding/editing nodes:"
   ]
  },
  {
   "cell_type": "code",
<<<<<<< HEAD
   "execution_count": 2,
   "metadata": {},
   "outputs": [
    {
     "data": {
      "text/plain": [
       "NodeView((1, 2, 3, 'four', 5))"
      ]
     },
     "execution_count": 2,
     "metadata": {},
     "output_type": "execute_result"
    }
   ],
=======
   "execution_count": null,
   "metadata": {
    "collapsed": false
   },
   "outputs": [],
>>>>>>> upstream/master
   "source": [
    "import networkx as nx\n",
    "\n",
    "'''use g = nx.Graph() to create a graph'''\n",
    "\n",
    "g = nx.Graph()\n",
    "\n",
    "'''Lesson: use .add_node(1) to add a single node'''\n",
    "g.add_node(1)\n",
    "\n",
    "'''Lesson: use .add_nodes_from([2, 3, 'four', 5])  to add in bulk'''\n",
    "g.add_nodes_from([2, 3, 'four', 5])\n",
    "\n",
    "g.nodes()  # run g.nodes() to view the graph"
   ]
  },
  {
   "cell_type": "code",
<<<<<<< HEAD
   "execution_count": 3,
   "metadata": {},
   "outputs": [
    {
     "data": {
      "text/plain": [
       "NodeView((1, 2, 3, 'four', 5))"
      ]
     },
     "execution_count": 3,
     "metadata": {},
     "output_type": "execute_result"
    }
   ],
=======
   "execution_count": null,
   "metadata": {
    "collapsed": false
   },
   "outputs": [],
>>>>>>> upstream/master
   "source": [
    "'''Note that NetworkX won't complain if we re-add pre-existing nodes'''\n",
    "\n",
    "# TODO: try re-adding nodes to see what happens\n",
<<<<<<< HEAD
    "g.add_node(3)\n",
=======
>>>>>>> upstream/master
    "\n",
    "g.nodes()  # display nodes"
   ]
  },
  {
   "cell_type": "code",
<<<<<<< HEAD
   "execution_count": 4,
   "metadata": {},
   "outputs": [
    {
     "data": {
      "text/plain": [
       "NodeView(())"
      ]
     },
     "execution_count": 4,
     "metadata": {},
     "output_type": "execute_result"
    }
   ],
=======
   "execution_count": null,
   "metadata": {
    "collapsed": false
   },
   "outputs": [],
>>>>>>> upstream/master
   "source": [
    "'''Lesson: remove syntax is similar to adding, eg:\n",
    "        .remove_node()\n",
    "        .remove_nodes_from()\n",
    "'''\n",
    "\n",
    "# TODO: try removing both 1) single nodes, 2) nodes in bulk\n",
<<<<<<< HEAD
    "g.remove_node(1)\n",
    "g.remove_nodes_from([2,3,'four',5])\n",
=======
    "\n",
>>>>>>> upstream/master
    "\n",
    "\n",
    "g.nodes()  # display nodes"
   ]
  },
  {
   "cell_type": "markdown",
   "metadata": {},
   "source": [
    "### Adding & editing edges"
   ]
  },
  {
   "cell_type": "code",
<<<<<<< HEAD
   "execution_count": 5,
   "metadata": {},
   "outputs": [
    {
     "name": "stdout",
     "output_type": "stream",
     "text": [
      "edges: [('a', 'b')]\n",
      "nodes: ['a', 'b']\n"
     ]
    }
   ],
=======
   "execution_count": null,
   "metadata": {
    "collapsed": false
   },
   "outputs": [],
>>>>>>> upstream/master
   "source": [
    "h = nx.Graph()  # let's create a 2nd graph to play with edges\n",
    "\n",
    "'''Lesson: to create an edge, just specify the 2 nodes that define it: \n",
    "        .add_edge('a','b')\n",
    "    Note that those nodes also get added (no need to make them beforehand!)\n",
    "'''\n",
    "\n",
    "h.add_edge('a', 'b')\n",
    "\n",
    "\n",
    "print('edges:', h.edges())  # see your new edge\n",
    "print('nodes:', h.nodes())  # verify that new nodes were also added"
   ]
  },
  {
   "cell_type": "markdown",
   "metadata": {},
   "source": [
    "### Visualizing graphs"
   ]
  },
  {
   "cell_type": "code",
<<<<<<< HEAD
   "execution_count": 6,
   "metadata": {},
   "outputs": [
    {
     "data": {
      "image/png": "iVBORw0KGgoAAAANSUhEUgAAAeEAAAFCCAYAAADGwmVOAAAABHNCSVQICAgIfAhkiAAAAAlwSFlz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\n",
      "text/plain": [
       "<matplotlib.figure.Figure at 0x1042ccc0>"
      ]
     },
     "metadata": {},
     "output_type": "display_data"
    }
   ],
=======
   "execution_count": null,
   "metadata": {
    "collapsed": false
   },
   "outputs": [],
>>>>>>> upstream/master
   "source": [
    "\n",
    "GREEN = \"#77DD77\"\n",
    "BLUE = \"#99CCFF\"\n",
    "\n",
    "nx.draw(g, node_color=GREEN, with_labels=True)\n",
    "nx.draw(h, node_color=BLUE, with_labels=True)\n",
    "\n"
   ]
  },
  {
   "cell_type": "markdown",
   "metadata": {},
   "source": [
    "#### How would you create the following graph?\n",
    "\n",
    "<img src=\"img/graph.png\" style=\"float:left\" width=\"200\" />"
   ]
  },
  {
   "cell_type": "code",
<<<<<<< HEAD
   "execution_count": 7,
=======
   "execution_count": null,
>>>>>>> upstream/master
   "metadata": {
    "collapsed": true
   },
   "outputs": [],
   "source": [
    "g = nx.Graph()\n",
    "\n",
    "g.add_edges_from([('A','B'),('B','D'),('C','D'),('E','D'),('F','D')])"
   ]
  },
  {
   "cell_type": "markdown",
   "metadata": {},
   "source": [
    "# Directed graphs"
   ]
  },
  {
   "cell_type": "code",
<<<<<<< HEAD
   "execution_count": 8,
   "metadata": {},
   "outputs": [
    {
     "name": "stdout",
     "output_type": "stream",
     "text": [
      "directed edges: [(1, 2), (2, 3)]\n"
     ]
    },
    {
     "data": {
      "image/png": "iVBORw0KGgoAAAANSUhEUgAAAeEAAAFCCAYAAADGwmVOAAAABHNCSVQICAgIfAhkiAAAAAlwSFlz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\n",
      "text/plain": [
       "<matplotlib.figure.Figure at 0x134af4e0>"
      ]
     },
     "metadata": {},
     "output_type": "display_data"
    }
   ],
=======
   "execution_count": null,
   "metadata": {
    "collapsed": false
   },
   "outputs": [],
>>>>>>> upstream/master
   "source": [
    "'''Lesson: use nx.DiGraph() to create a new directed graph\n",
    "'''\n",
    "\n",
    "dg = nx.DiGraph()\n",
    "\n",
    "\n",
    "dg.add_edges_from([(1,2), (2,3)])\n",
    "\n",
    "print('directed edges:', dg.edges())\n",
    "nx.draw(dg, node_color=GREEN, with_labels=True)\n"
   ]
  },
  {
   "cell_type": "code",
<<<<<<< HEAD
   "execution_count": 9,
   "metadata": {},
   "outputs": [
    {
     "data": {
      "image/png": "iVBORw0KGgoAAAANSUhEUgAAAeEAAAFCCAYAAADGwmVOAAAABHNCSVQICAgIfAhkiAAAAAlwSFlz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\n",
      "text/plain": [
       "<matplotlib.figure.Figure at 0x11413d68>"
      ]
     },
     "metadata": {},
     "output_type": "display_data"
    }
   ],
=======
   "execution_count": null,
   "metadata": {
    "collapsed": false
   },
   "outputs": [],
>>>>>>> upstream/master
   "source": [
    "'''We can make directed graphs from existing graphs, eg:\n",
    "        nx.DiGraph(g)\n",
    "'''\n",
    "\n",
    "dg = nx.DiGraph(g)\n",
    "\n",
    "\n",
    "nx.draw(dg, node_color=BLUE, with_labels=True)"
   ]
  },
  {
   "cell_type": "code",
<<<<<<< HEAD
   "execution_count": 10,
   "metadata": {},
   "outputs": [
    {
     "data": {
      "text/plain": [
       "OutEdgeView([('A', 'B'), ('B', 'A'), ('B', 'D'), ('D', 'B'), ('D', 'C'), ('D', 'E'), ('D', 'F'), ('C', 'D'), ('E', 'D'), ('F', 'D')])"
      ]
     },
     "execution_count": 10,
     "metadata": {},
     "output_type": "execute_result"
    }
   ],
=======
   "execution_count": null,
   "metadata": {
    "collapsed": false
   },
   "outputs": [],
>>>>>>> upstream/master
   "source": [
    "''' Notice that nodes A and B have TWO directed edges:\n",
    "        A -> B\n",
    "        B -> A\n",
    "'''\n",
    "\n",
    "dg.edges()"
   ]
  },
  {
   "cell_type": "markdown",
   "metadata": {},
   "source": [
    "### Adding attributes to nodes and edges\n",
    "\n",
    "Sometimes you may want to attach attributes to either the nodes or edges:\n",
    "\n",
    "* Perhaps you want to save node properties that will be helpful with future analysis\n",
    "* Perhaps you want to attach visual descriptions, such a node size, edge width or graph color"
   ]
  },
  {
   "cell_type": "code",
<<<<<<< HEAD
   "execution_count": 11,
   "metadata": {},
   "outputs": [
    {
     "name": "stdout",
     "output_type": "stream",
     "text": [
      "Object `cities.add_edge` not found.\n"
     ]
    }
   ],
   "source": [
    "cities.add_edge?"
   ]
  },
  {
   "cell_type": "code",
   "execution_count": 12,
   "metadata": {},
   "outputs": [
    {
     "ename": "TypeError",
     "evalue": "add_edge() takes 3 positional arguments but 4 were given",
     "output_type": "error",
     "traceback": [
      "\u001b[1;31m---------------------------------------------------------------------------\u001b[0m",
      "\u001b[1;31mTypeError\u001b[0m                                 Traceback (most recent call last)",
      "\u001b[1;32m<ipython-input-12-5ff78c8d8d0b>\u001b[0m in \u001b[0;36m<module>\u001b[1;34m()\u001b[0m\n\u001b[0;32m      1\u001b[0m \u001b[0mcities\u001b[0m \u001b[1;33m=\u001b[0m \u001b[0mnx\u001b[0m\u001b[1;33m.\u001b[0m\u001b[0mGraph\u001b[0m\u001b[1;33m(\u001b[0m\u001b[1;33m)\u001b[0m\u001b[1;33m\u001b[0m\u001b[0m\n\u001b[0;32m      2\u001b[0m \u001b[1;33m\u001b[0m\u001b[0m\n\u001b[1;32m----> 3\u001b[1;33m \u001b[0mcities\u001b[0m\u001b[1;33m.\u001b[0m\u001b[0madd_edge\u001b[0m\u001b[1;33m(\u001b[0m\u001b[1;34m'San Diego'\u001b[0m\u001b[1;33m,\u001b[0m \u001b[1;34m'Los Angeles'\u001b[0m\u001b[1;33m,\u001b[0m \u001b[1;33m{\u001b[0m \u001b[1;34m'distance'\u001b[0m\u001b[1;33m:\u001b[0m \u001b[1;36m0.4\u001b[0m\u001b[1;33m}\u001b[0m\u001b[1;33m)\u001b[0m\u001b[1;33m\u001b[0m\u001b[0m\n\u001b[0m\u001b[0;32m      4\u001b[0m \u001b[0mcities\u001b[0m\u001b[1;33m.\u001b[0m\u001b[0madd_edge\u001b[0m\u001b[1;33m(\u001b[0m\u001b[1;34m'New York'\u001b[0m\u001b[1;33m,\u001b[0m \u001b[1;34m'Nashville'\u001b[0m\u001b[1;33m,\u001b[0m \u001b[1;33m{\u001b[0m \u001b[1;34m'distance'\u001b[0m\u001b[1;33m:\u001b[0m \u001b[1;36m5.6\u001b[0m\u001b[1;33m}\u001b[0m\u001b[1;33m)\u001b[0m\u001b[1;33m\u001b[0m\u001b[0m\n\u001b[0;32m      5\u001b[0m \u001b[0mcities\u001b[0m\u001b[1;33m.\u001b[0m\u001b[0madd_edge\u001b[0m\u001b[1;33m(\u001b[0m\u001b[1;34m'Boston'\u001b[0m\u001b[1;33m,\u001b[0m \u001b[1;34m'D.C.'\u001b[0m\u001b[1;33m,\u001b[0m \u001b[1;33m{\u001b[0m \u001b[1;34m'distance'\u001b[0m\u001b[1;33m:\u001b[0m \u001b[1;36m0.8\u001b[0m\u001b[1;33m}\u001b[0m\u001b[1;33m)\u001b[0m\u001b[1;33m\u001b[0m\u001b[0m\n",
      "\u001b[1;31mTypeError\u001b[0m: add_edge() takes 3 positional arguments but 4 were given"
     ]
    }
   ],
=======
   "execution_count": null,
   "metadata": {
    "collapsed": false
   },
   "outputs": [],
>>>>>>> upstream/master
   "source": [
    "cities = nx.Graph()\n",
    "\n",
    "cities.add_edge('San Diego', 'Los Angeles', { 'distance': 0.4})\n",
    "cities.add_edge('New York', 'Nashville', { 'distance': 5.6})\n",
    "cities.add_edge('Boston', 'D.C.', { 'distance': 0.8})\n",
    "\n",
    "nx.draw(cities)"
   ]
  },
  {
   "cell_type": "markdown",
   "metadata": {},
   "source": [
    "# Describing a network"
   ]
  },
  {
   "cell_type": "markdown",
   "metadata": {},
   "source": [
    "### Degree Distribution:\n",
    "\n",
    "\n",
    "\n",
    "<img src=\"img/graph.png\" style=\"float:left; padding-right:20px;\" width=\"200\" />\n",
    "\n",
    "- 1 node with 4 edges\n",
    "- 1 node with 2 edges\n",
    "- 4 nodes with 1 edge\n",
    "\n",
    "Distribution:\n",
    "\n",
    "    [(1:4), (1:2), (4:1)]\n"
   ]
  },
  {
   "cell_type": "code",
<<<<<<< HEAD
   "execution_count": 13,
   "metadata": {},
   "outputs": [
    {
     "name": "stdout",
     "output_type": "stream",
     "text": [
      "Degree Distribution: [('A', 1), ('B', 2), ('D', 4), ('C', 1), ('E', 1), ('F', 1)]\n"
     ]
    }
   ],
=======
   "execution_count": null,
   "metadata": {
    "collapsed": false
   },
   "outputs": [],
>>>>>>> upstream/master
   "source": [
    "# Degree Distribution for all nodes\n",
    "print('Degree Distribution:', g.degree())"
   ]
  },
  {
   "cell_type": "code",
<<<<<<< HEAD
   "execution_count": 14,
   "metadata": {},
   "outputs": [
    {
     "name": "stdout",
     "output_type": "stream",
     "text": [
      "Avg shortest path from A to E is 3 hops:\n",
      "['A', 'B', 'D', 'E']\n"
     ]
    }
   ],
=======
   "execution_count": null,
   "metadata": {
    "collapsed": false
   },
   "outputs": [],
>>>>>>> upstream/master
   "source": [
    "# Generate the graph above\n",
    "paths = nx.Graph()\n",
    "paths.add_edges_from([\n",
    "    ('A','B'), ('B','D'), ('B','C'), ('D','E'), ('D','C'),\n",
    "    ('C','1'), ('1','2'), ('1','3'), ('2','3'), \n",
    "    ('E','2'), ('E','4')])\n",
    "\n",
    "# Display average shortest path details\n",
    "print('Avg shortest path from A to E is', nx.shortest_path_length(paths, 'A','E'), 'hops:')\n",
    "print(nx.shortest_path(paths, 'A','E'))"
   ]
  },
  {
   "cell_type": "markdown",
   "metadata": {},
   "source": [
    "## Network Centrality (the higher result is better!)\n",
    "\n",
    "* **Degree: number of edges** for node X\n",
    "* **Betweenness: number of shortest paths** that pass through node X\n",
    "* **Closeness: average of the shortest paths** between X and all other nodes\n",
    "\n",
    "<img src=\"img/centrality1.png\" style=\"float:left;\" width=\"400\" />\n",
    "<img src=\"img/centrality2.png\" style=\"float:left;\" width=\"200\" />\n",
    "\n"
   ]
  },
  {
   "cell_type": "code",
<<<<<<< HEAD
   "execution_count": 15,
   "metadata": {},
   "outputs": [
    {
     "name": "stdout",
     "output_type": "stream",
     "text": [
      "Degree Centrality:\n",
      "[('A', 1), ('B', 2), ('D', 4), ('C', 1), ('E', 1), ('F', 1)]\n",
      "\n",
      "Degree Centrality, Normalized:\n",
      "{'A': 0.2, 'B': 0.4, 'D': 0.8, 'C': 0.2, 'E': 0.2, 'F': 0.2}\n"
     ]
    }
   ],
=======
   "execution_count": null,
   "metadata": {
    "collapsed": false
   },
   "outputs": [],
>>>>>>> upstream/master
   "source": [
    "''' To calculate Degree Distribution for all nodes, use:\n",
    "    g.degree()  for non-normalized values,\n",
    "    nx.degree_centrality(g)   for normalized values\n",
    "'''\n",
    "\n",
    "# degree distrib., non-normalized\n",
    "print('Degree Centrality:')\n",
    "print(g.degree())\n",
    "\n",
    "# TODO degree distrib., normalized\n",
    "print('\\nDegree Centrality, Normalized:')\n",
    "print(nx.degree_centrality(g))\n"
   ]
  },
  {
   "cell_type": "code",
<<<<<<< HEAD
   "execution_count": 16,
   "metadata": {},
   "outputs": [
    {
     "name": "stdout",
     "output_type": "stream",
     "text": [
      "Betweenness Centrality:\n",
      "{'A': 0.0, 'B': 4.0, 'D': 9.0, 'C': 0.0, 'E': 0.0, 'F': 0.0}\n",
      "\n",
      "Betweenness Centrality, Normalized:\n",
      "{'A': 0.0, 'B': 0.4, 'D': 0.9, 'C': 0.0, 'E': 0.0, 'F': 0.0}\n"
     ]
    }
   ],
=======
   "execution_count": null,
   "metadata": {
    "collapsed": false
   },
   "outputs": [],
>>>>>>> upstream/master
   "source": [
    "''' To calculate betweenness centrality, use:\n",
    "    nx.betweenness_centrality(g, normalized=True/False)   default is True\n",
    "'''\n",
    "\n",
    "# betweenness centrality, non-normalized\n",
    "print('Betweenness Centrality:')\n",
    "print(nx.betweenness_centrality(g, normalized=False))\n",
    "\n",
    "# betweenness centrality, normalized\n",
    "print('\\nBetweenness Centrality, Normalized:')\n",
    "print(nx.betweenness_centrality(g, normalized=True))\n"
   ]
  },
  {
   "cell_type": "code",
<<<<<<< HEAD
   "execution_count": 17,
   "metadata": {},
   "outputs": [
    {
     "name": "stdout",
     "output_type": "stream",
     "text": [
      "Closeness Centrality:\n",
      "{'A': 0.4166666666666667, 'B': 0.625, 'D': 0.8333333333333334, 'C': 0.5, 'E': 0.5, 'F': 0.5}\n"
     ]
    }
   ],
=======
   "execution_count": null,
   "metadata": {
    "collapsed": false
   },
   "outputs": [],
>>>>>>> upstream/master
   "source": [
    "''' to calculate closeness centrality, use:\n",
    "    nx.closeness_centrality(g)\n",
    "'''\n",
    "\n",
    "# find closeness centrality\n",
    "print('Closeness Centrality:')\n",
    "print(nx.closeness_centrality(g))"
   ]
  },
  {
   "cell_type": "markdown",
   "metadata": {},
   "source": [
    "# Back to Airline Networks\n",
    "\n",
    "Previously we used open flights to examine airline routes around the world.  We found that it was a bit of a pain to store the data in tables, and merge different information.  We can model it as network instead.  I've cleaned the data up a bit, and selected out only the routes operated by Delta, making it a bit more managable.  \n"
   ]
  },
  {
   "cell_type": "code",
<<<<<<< HEAD
   "execution_count": 18,
   "metadata": {},
   "outputs": [
    {
     "data": {
      "text/html": [
       "<div>\n",
       "<style scoped>\n",
       "    .dataframe tbody tr th:only-of-type {\n",
       "        vertical-align: middle;\n",
       "    }\n",
       "\n",
       "    .dataframe tbody tr th {\n",
       "        vertical-align: top;\n",
       "    }\n",
       "\n",
       "    .dataframe thead th {\n",
       "        text-align: right;\n",
       "    }\n",
       "</style>\n",
       "<table border=\"1\" class=\"dataframe\">\n",
       "  <thead>\n",
       "    <tr style=\"text-align: right;\">\n",
       "      <th></th>\n",
       "      <th>Unnamed: 0</th>\n",
       "      <th>airline</th>\n",
       "      <th>airline_id</th>\n",
       "      <th>source</th>\n",
       "      <th>source_id</th>\n",
       "      <th>dest</th>\n",
       "      <th>dest_id</th>\n",
       "      <th>codeshare</th>\n",
       "      <th>stops</th>\n",
       "      <th>equipment</th>\n",
       "      <th>latitude_source</th>\n",
       "      <th>longitude_source</th>\n",
       "      <th>latitude_dest</th>\n",
       "      <th>longitude_dest</th>\n",
       "    </tr>\n",
       "  </thead>\n",
       "  <tbody>\n",
       "    <tr>\n",
       "      <th>0</th>\n",
       "      <td>0</td>\n",
       "      <td>DL</td>\n",
       "      <td>2009.0</td>\n",
       "      <td>ABE</td>\n",
       "      <td>4355.0</td>\n",
       "      <td>ATL</td>\n",
       "      <td>3682.0</td>\n",
       "      <td>NaN</td>\n",
       "      <td>0</td>\n",
       "      <td>717</td>\n",
       "      <td>40.652100</td>\n",
       "      <td>-75.440804</td>\n",
       "      <td>33.636700</td>\n",
       "      <td>-84.428101</td>\n",
       "    </tr>\n",
       "    <tr>\n",
       "      <th>1</th>\n",
       "      <td>1</td>\n",
       "      <td>DL</td>\n",
       "      <td>2009.0</td>\n",
       "      <td>ABQ</td>\n",
       "      <td>4019.0</td>\n",
       "      <td>ATL</td>\n",
       "      <td>3682.0</td>\n",
       "      <td>NaN</td>\n",
       "      <td>0</td>\n",
       "      <td>757 320</td>\n",
       "      <td>35.040199</td>\n",
       "      <td>-106.609001</td>\n",
       "      <td>33.636700</td>\n",
       "      <td>-84.428101</td>\n",
       "    </tr>\n",
       "    <tr>\n",
       "      <th>2</th>\n",
       "      <td>2</td>\n",
       "      <td>DL</td>\n",
       "      <td>2009.0</td>\n",
       "      <td>ABQ</td>\n",
       "      <td>4019.0</td>\n",
       "      <td>MSP</td>\n",
       "      <td>3858.0</td>\n",
       "      <td>NaN</td>\n",
       "      <td>0</td>\n",
       "      <td>320</td>\n",
       "      <td>35.040199</td>\n",
       "      <td>-106.609001</td>\n",
       "      <td>44.882000</td>\n",
       "      <td>-93.221802</td>\n",
       "    </tr>\n",
       "    <tr>\n",
       "      <th>3</th>\n",
       "      <td>3</td>\n",
       "      <td>DL</td>\n",
       "      <td>2009.0</td>\n",
       "      <td>ACC</td>\n",
       "      <td>248.0</td>\n",
       "      <td>JFK</td>\n",
       "      <td>3797.0</td>\n",
       "      <td>NaN</td>\n",
       "      <td>0</td>\n",
       "      <td>76W</td>\n",
       "      <td>5.605190</td>\n",
       "      <td>-0.166786</td>\n",
       "      <td>40.639801</td>\n",
       "      <td>-73.778900</td>\n",
       "    </tr>\n",
       "    <tr>\n",
       "      <th>4</th>\n",
       "      <td>4</td>\n",
       "      <td>DL</td>\n",
       "      <td>2009.0</td>\n",
       "      <td>ACC</td>\n",
       "      <td>248.0</td>\n",
       "      <td>ROB</td>\n",
       "      <td>1063.0</td>\n",
       "      <td>NaN</td>\n",
       "      <td>0</td>\n",
       "      <td>76W</td>\n",
       "      <td>5.605190</td>\n",
       "      <td>-0.166786</td>\n",
       "      <td>6.233790</td>\n",
       "      <td>-10.362300</td>\n",
       "    </tr>\n",
       "  </tbody>\n",
       "</table>\n",
       "</div>"
      ],
      "text/plain": [
       "   Unnamed: 0 airline  airline_id source  source_id dest  dest_id  codeshare  \\\n",
       "0           0      DL      2009.0    ABE     4355.0  ATL   3682.0        NaN   \n",
       "1           1      DL      2009.0    ABQ     4019.0  ATL   3682.0        NaN   \n",
       "2           2      DL      2009.0    ABQ     4019.0  MSP   3858.0        NaN   \n",
       "3           3      DL      2009.0    ACC      248.0  JFK   3797.0        NaN   \n",
       "4           4      DL      2009.0    ACC      248.0  ROB   1063.0        NaN   \n",
       "\n",
       "   stops equipment  latitude_source  longitude_source  latitude_dest  \\\n",
       "0      0       717        40.652100        -75.440804      33.636700   \n",
       "1      0   757 320        35.040199       -106.609001      33.636700   \n",
       "2      0       320        35.040199       -106.609001      44.882000   \n",
       "3      0       76W         5.605190         -0.166786      40.639801   \n",
       "4      0       76W         5.605190         -0.166786       6.233790   \n",
       "\n",
       "   longitude_dest  \n",
       "0      -84.428101  \n",
       "1      -84.428101  \n",
       "2      -93.221802  \n",
       "3      -73.778900  \n",
       "4      -10.362300  "
      ]
     },
     "execution_count": 18,
     "metadata": {},
     "output_type": "execute_result"
    }
   ],
=======
   "execution_count": null,
   "metadata": {
    "collapsed": false
   },
   "outputs": [],
>>>>>>> upstream/master
   "source": [
    "# read the data\n",
    "routes = pd.read_csv('data/delta_routes.csv')\n",
    "routes.head()"
   ]
  },
  {
   "cell_type": "markdown",
   "metadata": {},
   "source": [
    "### As a review, let's build an interactive map to see what this looks like\n",
    "\n"
   ]
  },
  {
   "cell_type": "code",
<<<<<<< HEAD
   "execution_count": 19,
=======
   "execution_count": null,
>>>>>>> upstream/master
   "metadata": {
    "collapsed": true
   },
   "outputs": [],
   "source": [
    "import pyproj\n",
    "import folium"
   ]
  },
  {
   "cell_type": "code",
<<<<<<< HEAD
   "execution_count": 20,
=======
   "execution_count": null,
>>>>>>> upstream/master
   "metadata": {
    "collapsed": true
   },
   "outputs": [],
   "source": [
    "\n",
    "# when creating a function, it is good practice to define the API!\n",
    "def getGreatCirclePoints(startlat, startlon, endlat, endlon): \n",
    "    \"\"\"\n",
    "    startlat - starting latitude \n",
    "    startlon - starting longitude \n",
    "    endlat   - ending latitude \n",
    "    endlon   - ending longitude \n",
    "    \n",
    "    returns - a list of tuples, where each tuple is the lat-long for a point\n",
    "              along the curve.  \n",
    "    \"\"\"\n",
    "    # calculate distance between points\n",
    "    g = pyproj.Geod(ellps='WGS84')\n",
    "    (az12, az21, dist) = g.inv(startlon, startlat, endlon, endlat)\n",
    "\n",
    "    # calculate line string along path with segments <= 20 km\n",
    "    lonlats = g.npts(startlon, startlat, endlon, endlat,\n",
    "                     1 + int(dist / 20000))\n",
    "\n",
    "    # the npts function uses lon-lat, while the folium functions use lat-lon\n",
    "    # This sort of thing is maddening!  What happens is the lines don't show\n",
    "    # up on the map and you don't know why.  Learn from my mistakes\n",
    "    latlons = []\n",
    "    for lon_lat in lonlats: \n",
    "        \n",
    "        # this is how you get values out of a tuple\n",
    "        (lon, lat) = lon_lat\n",
    "        \n",
    "        # add them to our list\n",
    "        latlons.append((lat, lon)) \n",
    "    \n",
    "    # npts doesn't include start/end points, so prepend/append them\n",
    "    latlons.insert(0, (startlat, startlon))\n",
    "    latlons.append((endlat, endlon))\n",
    "    \n",
    "    return latlons\n"
   ]
  },
  {
   "cell_type": "code",
<<<<<<< HEAD
   "execution_count": 21,
   "metadata": {
    "collapsed": true
=======
   "execution_count": null,
   "metadata": {
    "collapsed": false
>>>>>>> upstream/master
   },
   "outputs": [],
   "source": [
    "# create a basic map, centered on Lexington\n",
    "m = folium.Map(\n",
    "    location=[38.034,-84.500],\n",
    "    tiles='Stamen Toner',\n",
    "    zoom_start=4\n",
    ")"
   ]
  },
  {
   "cell_type": "code",
<<<<<<< HEAD
   "execution_count": 22,
=======
   "execution_count": null,
>>>>>>> upstream/master
   "metadata": {
    "collapsed": true
   },
   "outputs": [],
   "source": [
    "# define the map in the same way, but use great circles for the lines\n",
    "\n",
    "# Define some empty sets\n",
    "airport_set = set()\n",
    "route_set = set()\n",
    "\n",
    "# Make sure we don't add duplicates, especially for the origins\n",
    "for name, row in routes.iterrows():\n",
    "    \n",
    "    if row['source'] not in airport_set: \n",
    "        popup_string = row['source']\n",
    "        marker = folium.CircleMarker([row[\"latitude_source\"], row[\"longitude_source\"]], \n",
    "                                     color='DarkCyan',\n",
    "                                     fill_color='DarkCyan', \n",
    "                                     radius=5, popup=popup_string)\n",
    "        marker.add_to(m)\n",
    "        airport_set.add(row['source'])\n",
    "        \n",
    "    if row['dest'] not in airport_set: \n",
    "        popup_string = row['dest']\n",
    "        marker = folium.CircleMarker([row[\"latitude_dest\"], row[\"longitude_dest\"]], \n",
    "                                     color='MidnightBlue',\n",
    "                                     fill_color='MidnightBlue', \n",
    "                                     radius=5, popup=popup_string)\n",
    "        marker.add_to(m)\n",
    "        airport_set.add(row['dest'])\n",
    "    \n",
    "    # PolyLine will accept a whole list of tuples, not just two\n",
    "    if (row['source'],row['dest']) not in route_set:            \n",
    "        popup_string = row['source'] + '-' + row['dest']       \n",
    "        \n",
    "        gc_points = getGreatCirclePoints(row[\"latitude_source\"], \n",
    "                                         row[\"longitude_source\"], \n",
    "                                         row[\"latitude_dest\"], \n",
    "                                         row[\"longitude_dest\"])\n",
    "        \n",
    "        line = folium.PolyLine(gc_points, weight=2, popup=popup_string)\n",
    "        line.add_to(m)\n",
    "        route_set.add((row['source'],row['dest']))\n",
    "        "
   ]
  },
  {
   "cell_type": "code",
<<<<<<< HEAD
   "execution_count": 23,
=======
   "execution_count": null,
>>>>>>> upstream/master
   "metadata": {
    "collapsed": true
   },
   "outputs": [],
   "source": [
    "# save it to its own file\n",
    "m.save(\"delta.html\")"
   ]
  },
  {
   "cell_type": "markdown",
   "metadata": {},
   "source": [
    "# Homework\n",
    "\n",
    "1. Represent the Delta flights as a network.  What are the nodes?  What are the links?\n",
    "2. Which is the most important airport in Delta's network?  Support your answer using appropriate network metrics.  \n",
    "3. How many flights are needed to reach Honolulu?  \n",
    "4. What is the maximum number of flights needed to reach any destination in Delta's network?\n",
    "5. Convert the network into a weighted network, using the travel time as the weight.  Assume that planes fly at 500 mph, plus 30 minutes to take off + 30 minutes to land.  \n",
    "6. How long does it take to travel to Honolulu, in flight times.  "
   ]
  },
  {
   "cell_type": "code",
<<<<<<< HEAD
   "execution_count": 24,
   "metadata": {},
   "outputs": [
    {
     "ename": "AttributeError",
     "evalue": "module 'networkx' has no attribute 'from_pandas_dataframe'",
     "output_type": "error",
     "traceback": [
      "\u001b[1;31m---------------------------------------------------------------------------\u001b[0m",
      "\u001b[1;31mAttributeError\u001b[0m                            Traceback (most recent call last)",
      "\u001b[1;32m<ipython-input-24-f6f74e3b2f59>\u001b[0m in \u001b[0;36m<module>\u001b[1;34m()\u001b[0m\n\u001b[0;32m      1\u001b[0m \u001b[1;31m#create network\u001b[0m\u001b[1;33m\u001b[0m\u001b[1;33m\u001b[0m\u001b[0m\n\u001b[1;32m----> 2\u001b[1;33m \u001b[0mdelta\u001b[0m \u001b[1;33m=\u001b[0m \u001b[0mnx\u001b[0m\u001b[1;33m.\u001b[0m\u001b[0mfrom_pandas_dataframe\u001b[0m\u001b[1;33m(\u001b[0m\u001b[0mroutes\u001b[0m\u001b[1;33m,\u001b[0m \u001b[0msource\u001b[0m \u001b[1;33m=\u001b[0m \u001b[1;34m'source'\u001b[0m\u001b[1;33m,\u001b[0m \u001b[0mtarget\u001b[0m \u001b[1;33m=\u001b[0m \u001b[1;34m'dest'\u001b[0m\u001b[1;33m)\u001b[0m\u001b[1;33m\u001b[0m\u001b[0m\n\u001b[0m",
      "\u001b[1;31mAttributeError\u001b[0m: module 'networkx' has no attribute 'from_pandas_dataframe'"
     ]
    }
   ],
   "source": [
    "#create network\n",
    "delta = nx.from_pandas_dataframe(routes, source = 'source', target = 'dest')"
   ]
  },
  {
   "cell_type": "code",
   "execution_count": null,
   "metadata": {},
   "outputs": [],
   "source": [
    "#check degrees to see most important airport is ATL... not sure how to sort these max to min, but ATL is clear winner\n",
    "delta.degree()"
   ]
  },
  {
   "cell_type": "code",
   "execution_count": null,
   "metadata": {},
   "outputs": [],
   "source": [
    "#I am assuming we are traveling to LEX to Honolulu.. 2 flights are necessary\n",
    "nx.shortest_path_length(delta, 'LEX','HNL')"
   ]
  },
  {
   "cell_type": "code",
   "execution_count": null,
   "metadata": {},
   "outputs": [],
   "source": [
    "#max to reach anywhere.. 5\n",
    "unique_source = routes.source.unique()\n",
    "unique_dest = routes.dest.unique()\n",
    "i = 0\n",
    "j = 0\n",
    "lst = []\n",
    "\n",
    "while(i<226 and j<229):\n",
    "    lst.append(nx.shortest_path_length(delta, unique_source[i], unique_dest[j]))\n",
    "    if(j<228):\n",
    "        j=j+1\n",
    "    else:\n",
    "        i=i+1\n",
    "        j=0\n",
    "\n",
    "max(lst)"
   ]
  },
  {
   "cell_type": "code",
=======
>>>>>>> upstream/master
   "execution_count": null,
   "metadata": {
    "collapsed": true
   },
   "outputs": [],
<<<<<<< HEAD
   "source": [
    "#How do we figure distance between two nodes when given lat/lon?"
   ]
=======
   "source": []
>>>>>>> upstream/master
  }
 ],
 "metadata": {
  "anaconda-cloud": {},
  "kernelspec": {
<<<<<<< HEAD
   "display_name": "Python 3",
=======
   "display_name": "Python [default]",
>>>>>>> upstream/master
   "language": "python",
   "name": "python3"
  },
  "language_info": {
   "codemirror_mode": {
    "name": "ipython",
    "version": 3
   },
   "file_extension": ".py",
   "mimetype": "text/x-python",
   "name": "python",
   "nbconvert_exporter": "python",
   "pygments_lexer": "ipython3",
<<<<<<< HEAD
   "version": "3.6.3"
=======
   "version": "3.5.2"
>>>>>>> upstream/master
  }
 },
 "nbformat": 4,
 "nbformat_minor": 1
}
