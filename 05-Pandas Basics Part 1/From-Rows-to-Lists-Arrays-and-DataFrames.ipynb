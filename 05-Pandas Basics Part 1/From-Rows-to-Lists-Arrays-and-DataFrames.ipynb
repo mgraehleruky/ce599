{
 "cells": [
  {
   "cell_type": "markdown",
   "metadata": {},
   "source": [
    "# From Rows to Lists, Arrays, and DataFrames"
   ]
  },
  {
   "cell_type": "markdown",
   "metadata": {},
   "source": [
    "## Iterating Over Rows to Analyze Data"
   ]
  },
  {
   "cell_type": "markdown",
   "metadata": {},
   "source": [
    "So far we have learned how to iterate through the rows of a file in order to process each row, one at a time.  It has its limitations.  In this session we compare working with iteration over rows, to two alternatives: generating lists from the rows, and generating arrays using Numpy.  We close with an introduction to the pandas package, which we will begin using extensively.\n",
    "\n",
    "But first, let's ceate and then load a simple cvs file with one column, containing 50 random numbers between 0 and 1:"
   ]
  },
  {
   "cell_type": "markdown",
   "metadata": {},
   "source": [
    "The first task is to calculate a mean value of these numbers.  How can we do that?"
   ]
  },
  {
   "cell_type": "code",
   "execution_count": 64,
   "metadata": {},
   "outputs": [
    {
     "name": "stdout",
     "output_type": "stream",
     "text": [
      "0.5244398067643136\n"
     ]
    }
   ],
   "source": [
    "import csv\n",
    "with open('random.csv', 'r') as csvfile:\n",
    "    i = 0\n",
    "    cumsum = 0\n",
    "    itemreader = csv.reader(csvfile)\n",
    "    for row in itemreader:\n",
    "        i = i+1\n",
    "        cumsum = cumsum+float(row[0])\n",
    "    mean = cumsum/i\n",
    "    print(mean)"
   ]
  },
  {
   "cell_type": "markdown",
   "metadata": {},
   "source": [
    "How about computing the min and max values?"
   ]
  },
  {
   "cell_type": "code",
   "execution_count": 74,
   "metadata": {},
   "outputs": [
    {
     "name": "stdout",
     "output_type": "stream",
     "text": [
      "0.5244398067643136 0.025223651492324306 0.9466802390670823\n"
     ]
    }
   ],
   "source": [
    "import csv\n",
    "with open('random.csv', 'r') as csvfile:\n",
    "    i = 0\n",
    "    cumsum = 0\n",
    "    min = 1\n",
    "    max = 0\n",
    "    itemreader = csv.reader(csvfile)\n",
    "    for row in itemreader:\n",
    "        i = i+1\n",
    "        cumsum = cumsum+float(row[0])\n",
    "        if float(row[0])>max:\n",
    "            max = float(row[0])\n",
    "        if float(row[0])<min:\n",
    "            min = float(row[0])\n",
    "    mean = cumsum/i\n",
    "    print(mean, min, max)"
   ]
  },
  {
   "cell_type": "markdown",
   "metadata": {},
   "source": [
    "Now let's say we need to compute the median of these numbers.  Remember that a median is the value for which half of the observations are less and half are greater.  Any suggestions on how to code this using our iteration approach, and without resorting to creating a list?"
   ]
  },
  {
   "cell_type": "code",
   "execution_count": 101,
   "metadata": {
    "scrolled": true
   },
   "outputs": [
    {
     "name": "stdout",
     "output_type": "stream",
     "text": [
      "['4.093732012568683798e-01', '2.605739881846624861e-01', '3.292968362616999212e-01', '1.536925158765528598e-01', '2.332904307861635163e-01', '5.837548365200595502e-02', '5.332588448002980597e-01', '6.687962527527715473e-01', '5.332264351934751234e-01', '8.415076456699467355e-01', '7.979353969441536076e-01', '4.323377179407571491e-01', '3.475460528990772513e-01', '7.466619516233284903e-01', '1.581300577586214340e-01', '9.466802390670823186e-01', '5.818232321654557282e-01', '7.928258464748998424e-01', '4.199821139433508321e-01', '7.683834129272146818e-01', '1.081849759159183577e-01', '2.572187926784939016e-01', '2.522365149232430603e-02', '8.997766344084331402e-01', '9.202595213921237471e-01', '2.061939588802470524e-01', '4.238928642445808359e-01', '2.584410137397719076e-02', '2.853395943759442499e-01', '3.408062007554369943e-01', '2.572246414066634568e-01', '3.607105175611515779e-01', '5.595361970394099327e-01', '1.302252140994600849e-01', '8.365338424691172170e-01', '7.674578942113986502e-01', '9.166277316995727897e-01', '1.028232485426520126e-01', '8.514145952338723067e-01', '9.289184807191825932e-01', '4.110611617848008992e-01', '8.669246844006739394e-02', '8.206823663887279352e-01', '9.081734329877277911e-01', '7.107543205262647490e-01', '8.664969060282058377e-01', '7.895386545113654009e-01', '6.653522724979578085e-01', '8.754264422252426847e-01', '8.699019981469763296e-01']\n"
     ]
    }
   ],
   "source": [
    "import csv\n",
    "i = 0\n",
    "unordered = []\n",
    "\n",
    "with open('random.csv','r') as csvfile:\n",
    "    reader = csv.reader(csvfile)\n",
    "    for row in reader:\n",
    "        unordered.append(row[0])\n",
    "print(unordered)"
   ]
  },
  {
   "cell_type": "code",
   "execution_count": 102,
   "metadata": {},
   "outputs": [
    {
     "name": "stdout",
     "output_type": "stream",
     "text": [
      "[0.025223651492324306, 0.02584410137397719, 0.058375483652005955, 0.0866924684400674, 0.10282324854265201, 0.10818497591591836, 0.13022521409946008, 0.15369251587655286, 0.15813005775862143, 0.20619395888024705, 0.23329043078616352, 0.2572187926784939, 0.25722464140666346, 0.2605739881846625, 0.28533959437594425, 0.3292968362616999, 0.340806200755437, 0.34754605289907725, 0.3607105175611516, 0.4093732012568684, 0.4110611617848009, 0.41998211394335083, 0.42389286424458084, 0.43233771794075715, 0.5332264351934751, 0.5332588448002981, 0.5595361970394099, 0.5818232321654557, 0.6653522724979578, 0.6687962527527715, 0.7107543205262647, 0.7466619516233285, 0.7674578942113987, 0.7683834129272147, 0.7895386545113654, 0.7928258464748998, 0.7979353969441536, 0.8206823663887279, 0.8365338424691172, 0.8415076456699467, 0.8514145952338723, 0.8664969060282058, 0.8699019981469763, 0.8754264422252427, 0.8997766344084331, 0.9081734329877278, 0.9166277316995728, 0.9202595213921237, 0.9289184807191826, 0.9466802390670823]\n"
     ]
    }
   ],
   "source": [
    "unordered = [float(i) for i in unordered]\n",
    "ordered = []\n",
    "i = 0\n",
    "\n",
    "lowest = unordered[0]\n",
    "\n",
    "#Perform Selection Sort on the unordered list\n",
    "#This will require (unsorted list length + 1)*(unsorted list length / 2) iterations\n",
    "#In our case, this will require 1275 iterations (50*51/2)\n",
    "\n",
    "while len(unordered) > 0:\n",
    "    if unordered[i] < lowest:\n",
    "        lowest = unordered[i]\n",
    "    i += 1\n",
    "    \n",
    "    if i == len(unordered):\n",
    "        #print(i)\n",
    "        ordered.append(lowest)\n",
    "        unordered.remove(lowest)\n",
    "        if unordered:\n",
    "            lowest = unordered[0]\n",
    "        i=0\n",
    "    #print(len(unordered))\n",
    "\n",
    "print (ordered)"
   ]
  },
  {
   "cell_type": "code",
   "execution_count": 103,
   "metadata": {},
   "outputs": [
    {
     "name": "stdout",
     "output_type": "stream",
     "text": [
      "0.5332426399968866\n"
     ]
    }
   ],
   "source": [
    "if(len(ordered)%2==0):\n",
    "    print((ordered[len(ordered)//2] + ordered[len(ordered)//2-1]) / 2)\n",
    "    \n",
    "else:\n",
    "    print(ordered[len(ordered)//2])"
   ]
  },
  {
   "cell_type": "markdown",
   "metadata": {},
   "source": [
    "## A Note on Documentation\n",
    "Often we forget how to do something.  In that case, the python docs are our friend.  They can be found here: https://docs.python.org/3.5/\n",
    "\n",
    "In particular, note the language reference and the library reference.  Let's stop and take a look at each.  "
   ]
  },
  {
   "cell_type": "markdown",
   "metadata": {},
   "source": [
    "## Using Lists to Analyze Data"
   ]
  },
  {
   "cell_type": "markdown",
   "metadata": {},
   "source": [
    "Some things that are hard in the row iteration approach above, become easier if we can keep all of the values in one object, like a list.\n",
    "\n",
    "Let's revisit the problems above, by assembling the values from each row into a single list."
   ]
  },
  {
   "cell_type": "code",
   "execution_count": 3,
   "metadata": {},
   "outputs": [
    {
     "data": {
      "text/plain": [
       "[0.4093732012568684,\n",
       " 0.2605739881846625,\n",
       " 0.3292968362616999,\n",
       " 0.15369251587655286,\n",
       " 0.23329043078616352,\n",
       " 0.058375483652005955,\n",
       " 0.5332588448002981,\n",
       " 0.6687962527527715,\n",
       " 0.5332264351934751,\n",
       " 0.8415076456699467,\n",
       " 0.7979353969441536,\n",
       " 0.43233771794075715,\n",
       " 0.34754605289907725,\n",
       " 0.7466619516233285,\n",
       " 0.15813005775862143,\n",
       " 0.9466802390670823,\n",
       " 0.5818232321654557,\n",
       " 0.7928258464748998,\n",
       " 0.41998211394335083,\n",
       " 0.7683834129272147,\n",
       " 0.10818497591591836,\n",
       " 0.2572187926784939,\n",
       " 0.025223651492324306,\n",
       " 0.8997766344084331,\n",
       " 0.9202595213921237,\n",
       " 0.20619395888024705,\n",
       " 0.42389286424458084,\n",
       " 0.02584410137397719,\n",
       " 0.28533959437594425,\n",
       " 0.340806200755437,\n",
       " 0.25722464140666346,\n",
       " 0.3607105175611516,\n",
       " 0.5595361970394099,\n",
       " 0.13022521409946008,\n",
       " 0.8365338424691172,\n",
       " 0.7674578942113987,\n",
       " 0.9166277316995728,\n",
       " 0.10282324854265201,\n",
       " 0.8514145952338723,\n",
       " 0.9289184807191826,\n",
       " 0.4110611617848009,\n",
       " 0.0866924684400674,\n",
       " 0.8206823663887279,\n",
       " 0.9081734329877278,\n",
       " 0.7107543205262647,\n",
       " 0.8664969060282058,\n",
       " 0.7895386545113654,\n",
       " 0.6653522724979578,\n",
       " 0.8754264422252427,\n",
       " 0.8699019981469763]"
      ]
     },
     "execution_count": 3,
     "metadata": {},
     "output_type": "execute_result"
    }
   ],
   "source": [
    "import csv\n",
    "with open('random.csv', 'r') as csvfile:\n",
    "    x = []\n",
    "    itemreader = csv.reader(csvfile)\n",
    "    for row in itemreader:\n",
    "        x.append(float(row[0]))\n",
    "x"
   ]
  },
  {
   "cell_type": "markdown",
   "metadata": {},
   "source": [
    "X is now a single list object with all the values in the file, whereas initially we just had each row producing one list with one element in it (from one row), and then printing that, before recreating it with the value from the next row.  The iteration approach kept only one row at a time, and we could not easily do calculations like a median.\n",
    "\n",
    "Using the list (x), we should now have an easier time with mean and median calculations, using list methods like sum and len, and sort:"
   ]
  },
  {
   "cell_type": "code",
   "execution_count": 4,
   "metadata": {},
   "outputs": [
    {
     "name": "stdout",
     "output_type": "stream",
     "text": [
      "0.5244398067643136\n"
     ]
    }
   ],
   "source": [
    "mean = sum(x)/len(x)\n",
    "print(mean)"
   ]
  },
  {
   "cell_type": "markdown",
   "metadata": {},
   "source": [
    "We can solve the median problem by sorting the list, and getting the value that is halfway through the list:"
   ]
  },
  {
   "cell_type": "code",
   "execution_count": 5,
   "metadata": {},
   "outputs": [
    {
     "name": "stdout",
     "output_type": "stream",
     "text": [
      "0.5332588448002981\n"
     ]
    }
   ],
   "source": [
    "x.sort()\n",
    "median = x[int(len(x)/2)]\n",
    "print(median)"
   ]
  },
  {
   "cell_type": "markdown",
   "metadata": {},
   "source": [
    "It is also simple to get the min and max, using built-in list methods:"
   ]
  },
  {
   "cell_type": "code",
   "execution_count": 6,
   "metadata": {},
   "outputs": [
    {
     "data": {
      "text/plain": [
       "0.025223651492324306"
      ]
     },
     "execution_count": 6,
     "metadata": {},
     "output_type": "execute_result"
    }
   ],
   "source": [
    "min = x[0]\n",
    "min"
   ]
  },
  {
   "cell_type": "code",
   "execution_count": 7,
   "metadata": {},
   "outputs": [
    {
     "data": {
      "text/plain": [
       "0.9466802390670823"
      ]
     },
     "execution_count": 7,
     "metadata": {},
     "output_type": "execute_result"
    }
   ],
   "source": [
    "#-1 gives \"one back\" from start.  Think circle.\n",
    "max = x[-1]\n",
    "max"
   ]
  },
  {
   "cell_type": "markdown",
   "metadata": {},
   "source": [
    "OK, this is progress.  Can we now do other math on the data, like multiply each value by 5?"
   ]
  },
  {
   "cell_type": "code",
   "execution_count": 8,
   "metadata": {},
   "outputs": [
    {
     "data": {
      "text/plain": [
       "[0.025223651492324306,\n",
       " 0.02584410137397719,\n",
       " 0.058375483652005955,\n",
       " 0.0866924684400674,\n",
       " 0.10282324854265201,\n",
       " 0.10818497591591836,\n",
       " 0.13022521409946008,\n",
       " 0.15369251587655286,\n",
       " 0.15813005775862143,\n",
       " 0.20619395888024705,\n",
       " 0.23329043078616352,\n",
       " 0.2572187926784939,\n",
       " 0.25722464140666346,\n",
       " 0.2605739881846625,\n",
       " 0.28533959437594425,\n",
       " 0.3292968362616999,\n",
       " 0.340806200755437,\n",
       " 0.34754605289907725,\n",
       " 0.3607105175611516,\n",
       " 0.4093732012568684,\n",
       " 0.4110611617848009,\n",
       " 0.41998211394335083,\n",
       " 0.42389286424458084,\n",
       " 0.43233771794075715,\n",
       " 0.5332264351934751,\n",
       " 0.5332588448002981,\n",
       " 0.5595361970394099,\n",
       " 0.5818232321654557,\n",
       " 0.6653522724979578,\n",
       " 0.6687962527527715,\n",
       " 0.7107543205262647,\n",
       " 0.7466619516233285,\n",
       " 0.7674578942113987,\n",
       " 0.7683834129272147,\n",
       " 0.7895386545113654,\n",
       " 0.7928258464748998,\n",
       " 0.7979353969441536,\n",
       " 0.8206823663887279,\n",
       " 0.8365338424691172,\n",
       " 0.8415076456699467,\n",
       " 0.8514145952338723,\n",
       " 0.8664969060282058,\n",
       " 0.8699019981469763,\n",
       " 0.8754264422252427,\n",
       " 0.8997766344084331,\n",
       " 0.9081734329877278,\n",
       " 0.9166277316995728,\n",
       " 0.9202595213921237,\n",
       " 0.9289184807191826,\n",
       " 0.9466802390670823,\n",
       " 0.025223651492324306,\n",
       " 0.02584410137397719,\n",
       " 0.058375483652005955,\n",
       " 0.0866924684400674,\n",
       " 0.10282324854265201,\n",
       " 0.10818497591591836,\n",
       " 0.13022521409946008,\n",
       " 0.15369251587655286,\n",
       " 0.15813005775862143,\n",
       " 0.20619395888024705,\n",
       " 0.23329043078616352,\n",
       " 0.2572187926784939,\n",
       " 0.25722464140666346,\n",
       " 0.2605739881846625,\n",
       " 0.28533959437594425,\n",
       " 0.3292968362616999,\n",
       " 0.340806200755437,\n",
       " 0.34754605289907725,\n",
       " 0.3607105175611516,\n",
       " 0.4093732012568684,\n",
       " 0.4110611617848009,\n",
       " 0.41998211394335083,\n",
       " 0.42389286424458084,\n",
       " 0.43233771794075715,\n",
       " 0.5332264351934751,\n",
       " 0.5332588448002981,\n",
       " 0.5595361970394099,\n",
       " 0.5818232321654557,\n",
       " 0.6653522724979578,\n",
       " 0.6687962527527715,\n",
       " 0.7107543205262647,\n",
       " 0.7466619516233285,\n",
       " 0.7674578942113987,\n",
       " 0.7683834129272147,\n",
       " 0.7895386545113654,\n",
       " 0.7928258464748998,\n",
       " 0.7979353969441536,\n",
       " 0.8206823663887279,\n",
       " 0.8365338424691172,\n",
       " 0.8415076456699467,\n",
       " 0.8514145952338723,\n",
       " 0.8664969060282058,\n",
       " 0.8699019981469763,\n",
       " 0.8754264422252427,\n",
       " 0.8997766344084331,\n",
       " 0.9081734329877278,\n",
       " 0.9166277316995728,\n",
       " 0.9202595213921237,\n",
       " 0.9289184807191826,\n",
       " 0.9466802390670823,\n",
       " 0.025223651492324306,\n",
       " 0.02584410137397719,\n",
       " 0.058375483652005955,\n",
       " 0.0866924684400674,\n",
       " 0.10282324854265201,\n",
       " 0.10818497591591836,\n",
       " 0.13022521409946008,\n",
       " 0.15369251587655286,\n",
       " 0.15813005775862143,\n",
       " 0.20619395888024705,\n",
       " 0.23329043078616352,\n",
       " 0.2572187926784939,\n",
       " 0.25722464140666346,\n",
       " 0.2605739881846625,\n",
       " 0.28533959437594425,\n",
       " 0.3292968362616999,\n",
       " 0.340806200755437,\n",
       " 0.34754605289907725,\n",
       " 0.3607105175611516,\n",
       " 0.4093732012568684,\n",
       " 0.4110611617848009,\n",
       " 0.41998211394335083,\n",
       " 0.42389286424458084,\n",
       " 0.43233771794075715,\n",
       " 0.5332264351934751,\n",
       " 0.5332588448002981,\n",
       " 0.5595361970394099,\n",
       " 0.5818232321654557,\n",
       " 0.6653522724979578,\n",
       " 0.6687962527527715,\n",
       " 0.7107543205262647,\n",
       " 0.7466619516233285,\n",
       " 0.7674578942113987,\n",
       " 0.7683834129272147,\n",
       " 0.7895386545113654,\n",
       " 0.7928258464748998,\n",
       " 0.7979353969441536,\n",
       " 0.8206823663887279,\n",
       " 0.8365338424691172,\n",
       " 0.8415076456699467,\n",
       " 0.8514145952338723,\n",
       " 0.8664969060282058,\n",
       " 0.8699019981469763,\n",
       " 0.8754264422252427,\n",
       " 0.8997766344084331,\n",
       " 0.9081734329877278,\n",
       " 0.9166277316995728,\n",
       " 0.9202595213921237,\n",
       " 0.9289184807191826,\n",
       " 0.9466802390670823,\n",
       " 0.025223651492324306,\n",
       " 0.02584410137397719,\n",
       " 0.058375483652005955,\n",
       " 0.0866924684400674,\n",
       " 0.10282324854265201,\n",
       " 0.10818497591591836,\n",
       " 0.13022521409946008,\n",
       " 0.15369251587655286,\n",
       " 0.15813005775862143,\n",
       " 0.20619395888024705,\n",
       " 0.23329043078616352,\n",
       " 0.2572187926784939,\n",
       " 0.25722464140666346,\n",
       " 0.2605739881846625,\n",
       " 0.28533959437594425,\n",
       " 0.3292968362616999,\n",
       " 0.340806200755437,\n",
       " 0.34754605289907725,\n",
       " 0.3607105175611516,\n",
       " 0.4093732012568684,\n",
       " 0.4110611617848009,\n",
       " 0.41998211394335083,\n",
       " 0.42389286424458084,\n",
       " 0.43233771794075715,\n",
       " 0.5332264351934751,\n",
       " 0.5332588448002981,\n",
       " 0.5595361970394099,\n",
       " 0.5818232321654557,\n",
       " 0.6653522724979578,\n",
       " 0.6687962527527715,\n",
       " 0.7107543205262647,\n",
       " 0.7466619516233285,\n",
       " 0.7674578942113987,\n",
       " 0.7683834129272147,\n",
       " 0.7895386545113654,\n",
       " 0.7928258464748998,\n",
       " 0.7979353969441536,\n",
       " 0.8206823663887279,\n",
       " 0.8365338424691172,\n",
       " 0.8415076456699467,\n",
       " 0.8514145952338723,\n",
       " 0.8664969060282058,\n",
       " 0.8699019981469763,\n",
       " 0.8754264422252427,\n",
       " 0.8997766344084331,\n",
       " 0.9081734329877278,\n",
       " 0.9166277316995728,\n",
       " 0.9202595213921237,\n",
       " 0.9289184807191826,\n",
       " 0.9466802390670823,\n",
       " 0.025223651492324306,\n",
       " 0.02584410137397719,\n",
       " 0.058375483652005955,\n",
       " 0.0866924684400674,\n",
       " 0.10282324854265201,\n",
       " 0.10818497591591836,\n",
       " 0.13022521409946008,\n",
       " 0.15369251587655286,\n",
       " 0.15813005775862143,\n",
       " 0.20619395888024705,\n",
       " 0.23329043078616352,\n",
       " 0.2572187926784939,\n",
       " 0.25722464140666346,\n",
       " 0.2605739881846625,\n",
       " 0.28533959437594425,\n",
       " 0.3292968362616999,\n",
       " 0.340806200755437,\n",
       " 0.34754605289907725,\n",
       " 0.3607105175611516,\n",
       " 0.4093732012568684,\n",
       " 0.4110611617848009,\n",
       " 0.41998211394335083,\n",
       " 0.42389286424458084,\n",
       " 0.43233771794075715,\n",
       " 0.5332264351934751,\n",
       " 0.5332588448002981,\n",
       " 0.5595361970394099,\n",
       " 0.5818232321654557,\n",
       " 0.6653522724979578,\n",
       " 0.6687962527527715,\n",
       " 0.7107543205262647,\n",
       " 0.7466619516233285,\n",
       " 0.7674578942113987,\n",
       " 0.7683834129272147,\n",
       " 0.7895386545113654,\n",
       " 0.7928258464748998,\n",
       " 0.7979353969441536,\n",
       " 0.8206823663887279,\n",
       " 0.8365338424691172,\n",
       " 0.8415076456699467,\n",
       " 0.8514145952338723,\n",
       " 0.8664969060282058,\n",
       " 0.8699019981469763,\n",
       " 0.8754264422252427,\n",
       " 0.8997766344084331,\n",
       " 0.9081734329877278,\n",
       " 0.9166277316995728,\n",
       " 0.9202595213921237,\n",
       " 0.9289184807191826,\n",
       " 0.9466802390670823]"
      ]
     },
     "execution_count": 8,
     "metadata": {},
     "output_type": "execute_result"
    }
   ],
   "source": [
    "#this appends the list 5 times.  Not multiplying by 5.\n",
    "y = x*5\n",
    "y"
   ]
  },
  {
   "cell_type": "markdown",
   "metadata": {},
   "source": [
    "Not what we wanted. That just concatenated 5 copies of the list together!\n",
    "\n",
    "Let's take a different approach."
   ]
  },
  {
   "cell_type": "code",
   "execution_count": 9,
   "metadata": {},
   "outputs": [
    {
     "data": {
      "text/plain": [
       "[0.12611825746162153,\n",
       " 0.12922050686988595,\n",
       " 0.2918774182600298,\n",
       " 0.43346234220033697,\n",
       " 0.5141162427132601,\n",
       " 0.5409248795795918,\n",
       " 0.6511260704973004,\n",
       " 0.7684625793827643,\n",
       " 0.7906502887931072,\n",
       " 1.0309697944012353,\n",
       " 1.1664521539308175,\n",
       " 1.2860939633924695,\n",
       " 1.2861232070333173,\n",
       " 1.3028699409233124,\n",
       " 1.4266979718797212,\n",
       " 1.6464841813084996,\n",
       " 1.7040310037771849,\n",
       " 1.7377302644953863,\n",
       " 1.803552587805758,\n",
       " 2.046866006284342,\n",
       " 2.0553058089240044,\n",
       " 2.099910569716754,\n",
       " 2.119464321222904,\n",
       " 2.1616885897037856,\n",
       " 2.6661321759673755,\n",
       " 2.6662942240014904,\n",
       " 2.79768098519705,\n",
       " 2.9091161608272786,\n",
       " 3.326761362489789,\n",
       " 3.3439812637638577,\n",
       " 3.5537716026313237,\n",
       " 3.7333097581166426,\n",
       " 3.837289471056993,\n",
       " 3.8419170646360734,\n",
       " 3.947693272556827,\n",
       " 3.964129232374499,\n",
       " 3.9896769847207683,\n",
       " 4.10341183194364,\n",
       " 4.182669212345586,\n",
       " 4.207538228349733,\n",
       " 4.257072976169361,\n",
       " 4.332484530141029,\n",
       " 4.349509990734882,\n",
       " 4.377132211126213,\n",
       " 4.498883172042166,\n",
       " 4.540867164938639,\n",
       " 4.583138658497864,\n",
       " 4.601297606960618,\n",
       " 4.644592403595913,\n",
       " 4.733401195335412]"
      ]
     },
     "execution_count": 9,
     "metadata": {},
     "output_type": "execute_result"
    }
   ],
   "source": [
    "y = []\n",
    "for item in range(len(x)):\n",
    "    y.append(x[item]*5)\n",
    "y"
   ]
  },
  {
   "cell_type": "markdown",
   "metadata": {},
   "source": [
    "Alright, this is a big improvement over the iteration over rows approach, but it is still a bit tedious.\n",
    "\n",
    "## Introducing Numpy\n",
    "\n",
    "Now let's look at the use of arrays, the basic data structure added by Numpy, a library that creates, manipultates, and analyzes n-dimensional array objects, or ndarrays.  We will refer to this datatype as array for short.\n",
    "\n",
    "When we're working with a library, it is nice to keep the documentation handy.  We can find the Numpy docs here: http://www.numpy.org/.  If you're unfamiliar with a new package, you might want to start from the tutorial to cover the basics.  \n",
    "\n",
    "Arrays can be created from any sequence-like object, such as a list of integers or floats, for example.  We start by creating one from a list of floats.  \n",
    "\n",
    "First, we have to import Numpy and will assign it a shorter name of np"
   ]
  },
  {
   "cell_type": "code",
   "execution_count": 10,
   "metadata": {},
   "outputs": [
    {
     "data": {
      "text/plain": [
       "array([ 3.2,  4.5,  8. ,  9.9])"
      ]
     },
     "execution_count": 10,
     "metadata": {},
     "output_type": "execute_result"
    }
   ],
   "source": [
    "import numpy as np\n",
    "\n",
    "data1 = [3.2, 4.5, 8.0, 9.9]\n",
    "arr1 = np.array(data1)\n",
    "\n",
    "arr1"
   ]
  },
  {
   "cell_type": "markdown",
   "metadata": {},
   "source": [
    "Notice that if we pass a nested list of equal-length lists, we create a two-dimensional array:"
   ]
  },
  {
   "cell_type": "code",
   "execution_count": 11,
   "metadata": {},
   "outputs": [
    {
     "data": {
      "text/plain": [
       "array([[ 1.1,  2.2,  3.3],\n",
       "       [ 1.2,  2.3,  3.4]])"
      ]
     },
     "execution_count": 11,
     "metadata": {},
     "output_type": "execute_result"
    }
   ],
   "source": [
    "data2 = [[1.1, 2.2 ,3.3], [1.2, 2.3, 3.4]]\n",
    "arr2 = np.array(data2)\n",
    "arr2"
   ]
  },
  {
   "cell_type": "markdown",
   "metadata": {},
   "source": [
    "We can see its type, number of dimensions, size (number of elements), and shape (length of each dimension) as follows:"
   ]
  },
  {
   "cell_type": "code",
   "execution_count": 12,
   "metadata": {},
   "outputs": [
    {
     "data": {
      "text/plain": [
       "numpy.ndarray"
      ]
     },
     "execution_count": 12,
     "metadata": {},
     "output_type": "execute_result"
    }
   ],
   "source": [
    "type(arr2)"
   ]
  },
  {
   "cell_type": "code",
   "execution_count": 13,
   "metadata": {},
   "outputs": [
    {
     "data": {
      "text/plain": [
       "2"
      ]
     },
     "execution_count": 13,
     "metadata": {},
     "output_type": "execute_result"
    }
   ],
   "source": [
    "arr2.ndim"
   ]
  },
  {
   "cell_type": "code",
   "execution_count": 14,
   "metadata": {},
   "outputs": [
    {
     "data": {
      "text/plain": [
       "6"
      ]
     },
     "execution_count": 14,
     "metadata": {},
     "output_type": "execute_result"
    }
   ],
   "source": [
    "arr2.size"
   ]
  },
  {
   "cell_type": "code",
   "execution_count": 15,
   "metadata": {},
   "outputs": [
    {
     "data": {
      "text/plain": [
       "(2, 3)"
      ]
     },
     "execution_count": 15,
     "metadata": {},
     "output_type": "execute_result"
    }
   ],
   "source": [
    "arr2.shape"
   ]
  },
  {
   "cell_type": "markdown",
   "metadata": {},
   "source": [
    "We can check the data type of the contents of an array, or 'cast' it to a specified data type, like this:"
   ]
  },
  {
   "cell_type": "code",
   "execution_count": 16,
   "metadata": {},
   "outputs": [
    {
     "data": {
      "text/plain": [
       "dtype('float64')"
      ]
     },
     "execution_count": 16,
     "metadata": {},
     "output_type": "execute_result"
    }
   ],
   "source": [
    "arr2.dtype"
   ]
  },
  {
   "cell_type": "code",
   "execution_count": 17,
   "metadata": {},
   "outputs": [
    {
     "data": {
      "text/plain": [
       "dtype('int8')"
      ]
     },
     "execution_count": 17,
     "metadata": {},
     "output_type": "execute_result"
    }
   ],
   "source": [
    "arr3 = arr2.astype(np.int8)\n",
    "arr3.dtype"
   ]
  },
  {
   "cell_type": "markdown",
   "metadata": {},
   "source": [
    "The data type for the elements in an array are required to be the same.  Among other types, they can be int8, int16, int32, int64, float16, float32, float64, bool. They can also be strings of fixed length, but Numpy is mostly used for arrays of numeric data."
   ]
  },
  {
   "cell_type": "markdown",
   "metadata": {},
   "source": [
    "Recall the range method to generate a range of integers?  We can use an analogous method called arange in Numpy to create a multi-dimensional array:"
   ]
  },
  {
   "cell_type": "code",
   "execution_count": 18,
   "metadata": {},
   "outputs": [
    {
     "data": {
      "text/plain": [
       "array([[ 0,  1,  2,  3,  4],\n",
       "       [ 5,  6,  7,  8,  9],\n",
       "       [10, 11, 12, 13, 14]])"
      ]
     },
     "execution_count": 18,
     "metadata": {},
     "output_type": "execute_result"
    }
   ],
   "source": [
    "arr = np.arange(15).reshape(3,5)\n",
    "arr"
   ]
  },
  {
   "cell_type": "markdown",
   "metadata": {},
   "source": [
    "Below, we load the same csv file with random numbers that we loaded earlier, with a built-in Numpy method, genfromtext.  "
   ]
  },
  {
   "cell_type": "code",
   "execution_count": 19,
   "metadata": {},
   "outputs": [
    {
     "data": {
      "text/plain": [
       "array([ 0.4093732 ,  0.26057399,  0.32929684,  0.15369252,  0.23329043,\n",
       "        0.05837548,  0.53325884,  0.66879625,  0.53322644,  0.84150765,\n",
       "        0.7979354 ,  0.43233772,  0.34754605,  0.74666195,  0.15813006,\n",
       "        0.94668024,  0.58182323,  0.79282585,  0.41998211,  0.76838341,\n",
       "        0.10818498,  0.25721879,  0.02522365,  0.89977663,  0.92025952,\n",
       "        0.20619396,  0.42389286,  0.0258441 ,  0.28533959,  0.3408062 ,\n",
       "        0.25722464,  0.36071052,  0.5595362 ,  0.13022521,  0.83653384,\n",
       "        0.76745789,  0.91662773,  0.10282325,  0.8514146 ,  0.92891848,\n",
       "        0.41106116,  0.08669247,  0.82068237,  0.90817343,  0.71075432,\n",
       "        0.86649691,  0.78953865,  0.66535227,  0.87542644,  0.869902  ])"
      ]
     },
     "execution_count": 19,
     "metadata": {},
     "output_type": "execute_result"
    }
   ],
   "source": [
    "a = np.genfromtxt('random.csv')\n",
    "a"
   ]
  },
  {
   "cell_type": "markdown",
   "metadata": {},
   "source": [
    "Numpy Arrays are objects of type ndarray, often just called arrays. They are a special data type that support fast, vectorized calculations.  Numpy calculations are actually computed in low-level C code behind the scenes, avoiding the need for iterative loops in Python, which are well known to be very slow compared to compiled languages like C, C++ or Fortran.\n",
    "\n",
    "Let's have a look at some of the built-in methods to explore Numpy arrays.\n",
    "\n",
    "First, instead of len, we have a size method that tells us how many elements are in the array."
   ]
  },
  {
   "cell_type": "code",
   "execution_count": 20,
   "metadata": {},
   "outputs": [
    {
     "data": {
      "text/plain": [
       "50"
      ]
     },
     "execution_count": 20,
     "metadata": {},
     "output_type": "execute_result"
    }
   ],
   "source": [
    "np.size(a)"
   ]
  },
  {
   "cell_type": "markdown",
   "metadata": {},
   "source": [
    "Next, we can explore the shape of an array.  If it is a single column, it shows as (length,).  If it is a single row, it shows up as (,length)."
   ]
  },
  {
   "cell_type": "code",
   "execution_count": 21,
   "metadata": {},
   "outputs": [
    {
     "data": {
      "text/plain": [
       "(50,)"
      ]
     },
     "execution_count": 21,
     "metadata": {},
     "output_type": "execute_result"
    }
   ],
   "source": [
    "np.shape(a)"
   ]
  },
  {
   "cell_type": "code",
   "execution_count": null,
   "metadata": {
    "collapsed": true
   },
   "outputs": [],
   "source": []
  },
  {
   "cell_type": "markdown",
   "metadata": {},
   "source": [
    "A lot of mathematical methods are readily built in to Numpy.  Here are a few for mean, standard deviation, variance, median, min, max, sum."
   ]
  },
  {
   "cell_type": "code",
   "execution_count": 22,
   "metadata": {},
   "outputs": [
    {
     "data": {
      "text/plain": [
       "0.52443980676431368"
      ]
     },
     "execution_count": 22,
     "metadata": {},
     "output_type": "execute_result"
    }
   ],
   "source": [
    "np.mean(a)"
   ]
  },
  {
   "cell_type": "code",
   "execution_count": 23,
   "metadata": {},
   "outputs": [
    {
     "data": {
      "text/plain": [
       "0.29945520509855145"
      ]
     },
     "execution_count": 23,
     "metadata": {},
     "output_type": "execute_result"
    }
   ],
   "source": [
    "np.std(a)"
   ]
  },
  {
   "cell_type": "code",
   "execution_count": 24,
   "metadata": {},
   "outputs": [
    {
     "data": {
      "text/plain": [
       "0.089673419860615514"
      ]
     },
     "execution_count": 24,
     "metadata": {},
     "output_type": "execute_result"
    }
   ],
   "source": [
    "np.var(a)"
   ]
  },
  {
   "cell_type": "code",
   "execution_count": 25,
   "metadata": {},
   "outputs": [
    {
     "data": {
      "text/plain": [
       "0.53324263999688659"
      ]
     },
     "execution_count": 25,
     "metadata": {},
     "output_type": "execute_result"
    }
   ],
   "source": [
    "np.median(a)"
   ]
  },
  {
   "cell_type": "code",
   "execution_count": 26,
   "metadata": {},
   "outputs": [
    {
     "data": {
      "text/plain": [
       "0.025223651492324306"
      ]
     },
     "execution_count": 26,
     "metadata": {},
     "output_type": "execute_result"
    }
   ],
   "source": [
    "np.min(a)"
   ]
  },
  {
   "cell_type": "code",
   "execution_count": 27,
   "metadata": {},
   "outputs": [
    {
     "data": {
      "text/plain": [
       "0.94668023906708232"
      ]
     },
     "execution_count": 27,
     "metadata": {},
     "output_type": "execute_result"
    }
   ],
   "source": [
    "np.max(a)"
   ]
  },
  {
   "cell_type": "code",
   "execution_count": 28,
   "metadata": {},
   "outputs": [
    {
     "data": {
      "text/plain": [
       "26.221990338215683"
      ]
     },
     "execution_count": 28,
     "metadata": {},
     "output_type": "execute_result"
    }
   ],
   "source": [
    "np.sum(a)"
   ]
  },
  {
   "cell_type": "markdown",
   "metadata": {},
   "source": [
    "Much easier than coding for loops and counters, don't you think?  And a lot faster on large datasets, too.\n",
    "\n",
    "Numpy also integrates very well with Matplotlib to generate charts.  Let's look at a sorted list of the elements in the array."
   ]
  },
  {
   "cell_type": "code",
   "execution_count": 29,
   "metadata": {},
   "outputs": [
    {
     "data": {
      "text/plain": [
       "[<matplotlib.lines.Line2D at 0x8b8eac8>]"
      ]
     },
     "execution_count": 29,
     "metadata": {},
     "output_type": "execute_result"
    },
    {
     "data": {
      "image/png": "[encoded data removed]",
      "text/plain": [
       "<matplotlib.figure.Figure at 0x7d61c18>"
      ]
     },
     "metadata": {},
     "output_type": "display_data"
    }
   ],
   "source": [
    "import matplotlib.pyplot as plt\n",
    "%matplotlib inline\n",
    "\n",
    "plt.plot(np.sort(a))"
   ]
  },
  {
   "cell_type": "code",
   "execution_count": 30,
   "metadata": {},
   "outputs": [
    {
     "data": {
      "text/plain": [
       "(array([ 6.,  4.,  5.,  4.,  5.,  3.,  3.,  2.,  9.,  9.]),\n",
       " array([ 0.02522365,  0.11736931,  0.20951497,  0.30166063,  0.39380629,\n",
       "         0.48595195,  0.5780976 ,  0.67024326,  0.76238892,  0.85453458,\n",
       "         0.94668024]),\n",
       " <a list of 10 Patch objects>)"
      ]
     },
     "execution_count": 30,
     "metadata": {},
     "output_type": "execute_result"
    },
    {
     "data": {
      "image/png": "[encoded data removed]",
      "text/plain": [
       "<matplotlib.figure.Figure at 0x7d61978>"
      ]
     },
     "metadata": {},
     "output_type": "display_data"
    }
   ],
   "source": [
    "plt.hist(a)"
   ]
  },
  {
   "cell_type": "markdown",
   "metadata": {},
   "source": [
    "The distribution above doesn't look very random, does it?  It seems to be intended as a uniform distribution from 0 to 1, but has a disproportionate samping from above 0.8.  Let's try generating larger samples and see if it looks more uniform."
   ]
  },
  {
   "cell_type": "code",
   "execution_count": 31,
   "metadata": {},
   "outputs": [
    {
     "data": {
      "text/plain": [
       "(array([ 2.,  4.,  7.,  1.,  6.,  6.,  9.,  4.,  4.,  7.]),\n",
       " array([ 0.00334291,  0.10179688,  0.20025085,  0.29870482,  0.39715879,\n",
       "         0.49561276,  0.59406673,  0.6925207 ,  0.79097466,  0.88942863,\n",
       "         0.9878826 ]),\n",
       " <a list of 10 Patch objects>)"
      ]
     },
     "execution_count": 31,
     "metadata": {},
     "output_type": "execute_result"
    },
    {
     "data": {
      "image/png": "[encoded data removed]",
      "text/plain": [
       "<matplotlib.figure.Figure at 0x8e5bb00>"
      ]
     },
     "metadata": {},
     "output_type": "display_data"
    }
   ],
   "source": [
    "b = np.random.uniform(0,1,50)\n",
    "plt.hist(b)"
   ]
  },
  {
   "cell_type": "markdown",
   "metadata": {},
   "source": [
    "And here is a normal distribution."
   ]
  },
  {
   "cell_type": "code",
   "execution_count": 32,
   "metadata": {},
   "outputs": [
    {
     "data": {
      "text/plain": [
       "(array([    5.,    36.,   263.,  1003.,  2360.,  2988.,  2189.,   935.,\n",
       "          190.,    31.]),\n",
       " array([-4.17078935, -3.40456697, -2.6383446 , -1.87212222, -1.10589985,\n",
       "        -0.33967747,  0.4265449 ,  1.19276728,  1.95898966,  2.72521203,\n",
       "         3.49143441]),\n",
       " <a list of 10 Patch objects>)"
      ]
     },
     "execution_count": 32,
     "metadata": {},
     "output_type": "execute_result"
    },
    {
     "data": {
      "image/png": "[encoded data removed]",
      "text/plain": [
       "<matplotlib.figure.Figure at 0x902da58>"
      ]
     },
     "metadata": {},
     "output_type": "display_data"
    }
   ],
   "source": [
    "b = np.random.randn(10000) \n",
    "plt.hist(b)"
   ]
  },
  {
   "cell_type": "markdown",
   "metadata": {},
   "source": [
    "The efficiency and productivity of coding using arrays becomes even more obvious when we consider calculations like an element by element calculation -- multiplying each element by 5, for example.  No loops needed when the calculations are vectorized.  If we say, a*5 and a is an array, Numpy will perform an element by element multiplication, using fast C code to do the math."
   ]
  },
  {
   "cell_type": "code",
   "execution_count": 33,
   "metadata": {},
   "outputs": [
    {
     "data": {
      "text/plain": [
       "array([ 2.04686601,  1.30286994,  1.64648418,  0.76846258,  1.16645215,\n",
       "        0.29187742,  2.66629422,  3.34398126,  2.66613218,  4.20753823,\n",
       "        3.98967698,  2.16168859,  1.73773026,  3.73330976,  0.79065029,\n",
       "        4.7334012 ,  2.90911616,  3.96412923,  2.09991057,  3.84191706,\n",
       "        0.54092488,  1.28609396,  0.12611826,  4.49888317,  4.60129761,\n",
       "        1.03096979,  2.11946432,  0.12922051,  1.42669797,  1.704031  ,\n",
       "        1.28612321,  1.80355259,  2.79768099,  0.65112607,  4.18266921,\n",
       "        3.83728947,  4.58313866,  0.51411624,  4.25707298,  4.6445924 ,\n",
       "        2.05530581,  0.43346234,  4.10341183,  4.54086716,  3.5537716 ,\n",
       "        4.33248453,  3.94769327,  3.32676136,  4.37713221,  4.34950999])"
      ]
     },
     "execution_count": 33,
     "metadata": {},
     "output_type": "execute_result"
    }
   ],
   "source": [
    "b = a*5\n",
    "b"
   ]
  },
  {
   "cell_type": "markdown",
   "metadata": {},
   "source": [
    "Similarly, multiplying two arrays together produces an element by element multiplication, in this case, instead of each element of a being multiplied by a constant (5), it is being multiplied by the corresponding value (same index position) in array b.  In other words, the first element of each array get multiplied together, the second element of each array, the third, and so on.\n",
    "\n",
    "This works as long as the arrays are of the same length, or if one is an even multiple of the other, in which case the shorter one gets repeated to make the lengths match.  That process is called broadcasting, and it is how we were able to multiply a initially by a constant. The constant was broadcast to the length of a."
   ]
  },
  {
   "cell_type": "code",
   "execution_count": 34,
   "metadata": {},
   "outputs": [
    {
     "data": {
      "text/plain": [
       "array([  8.37932090e-01,   3.39494017e-01,   5.42182032e-01,\n",
       "         1.18106947e-01,   2.72122125e-01,   1.70384855e-02,\n",
       "         1.42182498e+00,   2.23644214e+00,   1.42165216e+00,\n",
       "         3.54067559e+00,   3.18350449e+00,   9.34579512e-01,\n",
       "         6.03941294e-01,   2.78752035e+00,   1.25025576e-01,\n",
       "         4.48101738e+00,   1.69259137e+00,   3.14286411e+00,\n",
       "         8.81924880e-01,   2.95206535e+00,   5.85199451e-02,\n",
       "         3.30807537e-01,   3.18116297e-03,   4.04798996e+00,\n",
       "         4.23438793e+00,   2.12579743e-01,   8.98425802e-01,\n",
       "         3.33958788e-03,   4.07093421e-01,   5.80744332e-01,\n",
       "         3.30822581e-01,   6.50560387e-01,   1.56540378e+00,\n",
       "         8.47930319e-02,   3.49894435e+00,   2.94495810e+00,\n",
       "         4.20103199e+00,   5.28631022e-02,   3.62453406e+00,\n",
       "         4.31444772e+00,   8.44856394e-01,   3.75779204e-02,\n",
       "         3.36759773e+00,   4.12389492e+00,   2.52585852e+00,\n",
       "         3.75408444e+00,   3.11685643e+00,   2.21346823e+00,\n",
       "         3.83185728e+00,   3.78364743e+00])"
      ]
     },
     "execution_count": 34,
     "metadata": {},
     "output_type": "execute_result"
    }
   ],
   "source": [
    "c = a*b\n",
    "c"
   ]
  },
  {
   "cell_type": "markdown",
   "metadata": {},
   "source": [
    "### More Advanced Uses of Numpy\n",
    "\n",
    "Numpy is a very powerful libary for mathematical and scientific computing, well beyond the limited functionality above.  It forms the foundation for Scipy, a large libray for scientific computing, and many other numeric libraries, including Pandas, which we will get to shortly.\n",
    "\n",
    "But first, a glimpse of some more advanced uses of numpy.  To get a sense of the types of things Numpy can do, we can check out the list of Numpy functions by category from their docs.  Those are here: https://docs.scipy.org/doc/numpy/reference/routines.html.  Let's take a look...\n",
    "\n",
    "Now let's look at two examples.  \n",
    "\n",
    "#### Linear Algebra\n",
    "\n",
    "You noticed that when we did array calculations in Numpy it was elementwise?  Those of you who have done any linear algebra and worked with matrix (arra) libraries might be perplexed that standard matrix operations do not result from a * b for example.  Not to worry.  Numpy can do linear algebra quite well - it just uses separate syntax for it.\n",
    "\n",
    "For example, a matrix multiplication is called a dot product."
   ]
  },
  {
   "cell_type": "code",
   "execution_count": 35,
   "metadata": {},
   "outputs": [
    {
     "data": {
      "text/plain": [
       "array([[  7.,  10.],\n",
       "       [ 15.,  22.]])"
      ]
     },
     "execution_count": 35,
     "metadata": {},
     "output_type": "execute_result"
    }
   ],
   "source": [
    "d = np.array([[1.0, 2.0], [3.0, 4.0]])\n",
    "c = np.dot(d,d)\n",
    "c"
   ]
  },
  {
   "cell_type": "code",
   "execution_count": 36,
   "metadata": {},
   "outputs": [
    {
     "data": {
      "text/plain": [
       "array([[  7.,  15.],\n",
       "       [ 10.,  22.]])"
      ]
     },
     "execution_count": 36,
     "metadata": {},
     "output_type": "execute_result"
    }
   ],
   "source": [
    "np.transpose(c)"
   ]
  },
  {
   "cell_type": "markdown",
   "metadata": {},
   "source": [
    "There is way more to Numpy than we have covered here but if you need to do serious number crunching and advanced computation in Python, you will generally find Numpy to be a core part of the solution.  \n",
    "\n",
    "#### Generating Fractals\n",
    "\n",
    "Here is a fun example of using Numpy to generate a Mandlebrot set from a Scipy tutorial (don't ask me to explain it).  If you get curious about the theory and math behind it, Wikipedia has a good page on it. https://en.wikipedia.org/wiki/Mandelbrot_set"
   ]
  },
  {
   "cell_type": "code",
   "execution_count": 37,
   "metadata": {},
   "outputs": [
    {
     "data": {
      "image/png": "[encoded data removed]",
      "text/plain": [
       "<matplotlib.figure.Figure at 0x912ec18>"
      ]
     },
     "metadata": {},
     "output_type": "display_data"
    }
   ],
   "source": [
    "import numpy as np\n",
    "import matplotlib.pyplot as plt\n",
    "def mandelbrot( h,w, maxit=20 ):\n",
    "    \"\"\"Returns an image of the Mandelbrot fractal of size (h,w).\"\"\"\n",
    "\n",
    "    y,x = np.ogrid[ -1.4:1.4:h*1j, -2:0.8:w*1j ]\n",
    "    c = x+y*1j\n",
    "    z = c\n",
    "    divtime = maxit + np.zeros(z.shape, dtype=int)\n",
    "\n",
    "    for i in range(maxit):\n",
    "        z = z**2 + c\n",
    "        diverge = z*np.conj(z) > 2**2            # who is diverging\n",
    "        div_now = diverge & (divtime==maxit)  # who is diverging now\n",
    "        divtime[div_now] = i                  # note when\n",
    "        z[diverge] = 2                        # avoid diverging too much\n",
    "\n",
    "    return divtime\n",
    "\n",
    "plt.imshow(mandelbrot(400,400))\n",
    "plt.show()"
   ]
  },
  {
   "cell_type": "markdown",
   "metadata": {},
   "source": [
    "# Introducing Pandas"
   ]
  },
  {
   "cell_type": "markdown",
   "metadata": {},
   "source": [
    "We have moved from processing file with iterators over rows, to lists with iterators, to using Numpy arrays to do vectorized operations that are much faster and are also less complex to read, understand and to code. We moved from operating on one item in a list at a time, to operating on a whole array at one time. Now we want to be able to move to handling the whole table of data at once.\n",
    "\n",
    "One of the problems we did not attempt to deal with using arrays, or lists, was how to keep rows of data together so that if we skip a missing value in one variable like price, it does not cause the other variables to be mis-aligned due to changes in the length of the array or list for one entry. This is one of many things that the pandas library does for us.\n",
    "We skip forward a bit to Chapter 6 in Python for Data Analysis in order to learn how to load our data using pandas. \n",
    "\n",
    "We also want to keep the Pandas docs handy here: http://pandas.pydata.org/\n",
    "\n",
    "Here is how we start with loading data:"
   ]
  },
  {
   "cell_type": "code",
   "execution_count": 38,
   "metadata": {},
   "outputs": [
    {
     "data": {
      "text/html": [
       "<div>\n",
       "<style>\n",
       "    .dataframe thead tr:only-child th {\n",
       "        text-align: right;\n",
       "    }\n",
       "\n",
       "    .dataframe thead th {\n",
       "        text-align: left;\n",
       "    }\n",
       "\n",
       "    .dataframe tbody tr th {\n",
       "        vertical-align: top;\n",
       "    }\n",
       "</style>\n",
       "<table border=\"1\" class=\"dataframe\">\n",
       "  <thead>\n",
       "    <tr style=\"text-align: right;\">\n",
       "      <th></th>\n",
       "      <th>POPGROUP</th>\n",
       "      <th>label</th>\n",
       "      <th>GEOIDLONG</th>\n",
       "      <th>GEOID</th>\n",
       "      <th>geodisplay</th>\n",
       "      <th>Population</th>\n",
       "    </tr>\n",
       "  </thead>\n",
       "  <tbody>\n",
       "    <tr>\n",
       "      <th>0</th>\n",
       "      <td>1</td>\n",
       "      <td>Total population</td>\n",
       "      <td>1400000US06001400100</td>\n",
       "      <td>6001400100</td>\n",
       "      <td>Census Tract 4001, Alameda County, California</td>\n",
       "      <td>2937</td>\n",
       "    </tr>\n",
       "    <tr>\n",
       "      <th>1</th>\n",
       "      <td>1</td>\n",
       "      <td>Total population</td>\n",
       "      <td>1400000US06001400200</td>\n",
       "      <td>6001400200</td>\n",
       "      <td>Census Tract 4002, Alameda County, California</td>\n",
       "      <td>1974</td>\n",
       "    </tr>\n",
       "    <tr>\n",
       "      <th>2</th>\n",
       "      <td>1</td>\n",
       "      <td>Total population</td>\n",
       "      <td>1400000US06001400300</td>\n",
       "      <td>6001400300</td>\n",
       "      <td>Census Tract 4003, Alameda County, California</td>\n",
       "      <td>4865</td>\n",
       "    </tr>\n",
       "    <tr>\n",
       "      <th>3</th>\n",
       "      <td>1</td>\n",
       "      <td>Total population</td>\n",
       "      <td>1400000US06001400400</td>\n",
       "      <td>6001400400</td>\n",
       "      <td>Census Tract 4004, Alameda County, California</td>\n",
       "      <td>3703</td>\n",
       "    </tr>\n",
       "    <tr>\n",
       "      <th>4</th>\n",
       "      <td>1</td>\n",
       "      <td>Total population</td>\n",
       "      <td>1400000US06001400500</td>\n",
       "      <td>6001400500</td>\n",
       "      <td>Census Tract 4005, Alameda County, California</td>\n",
       "      <td>3517</td>\n",
       "    </tr>\n",
       "  </tbody>\n",
       "</table>\n",
       "</div>"
      ],
      "text/plain": [
       "   POPGROUP             label             GEOIDLONG       GEOID  \\\n",
       "0         1  Total population  1400000US06001400100  6001400100   \n",
       "1         1  Total population  1400000US06001400200  6001400200   \n",
       "2         1  Total population  1400000US06001400300  6001400300   \n",
       "3         1  Total population  1400000US06001400400  6001400400   \n",
       "4         1  Total population  1400000US06001400500  6001400500   \n",
       "\n",
       "                                      geodisplay  Population  \n",
       "0  Census Tract 4001, Alameda County, California        2937  \n",
       "1  Census Tract 4002, Alameda County, California        1974  \n",
       "2  Census Tract 4003, Alameda County, California        4865  \n",
       "3  Census Tract 4004, Alameda County, California        3703  \n",
       "4  Census Tract 4005, Alameda County, California        3517  "
      ]
     },
     "execution_count": 38,
     "metadata": {},
     "output_type": "execute_result"
    }
   ],
   "source": [
    "import pandas as pd\n",
    "df = pd.read_csv('ca_tracts_pop_cleaned.csv')\n",
    "df[:5]"
   ]
  },
  {
   "cell_type": "markdown",
   "metadata": {},
   "source": [
    "Notice a few things that have happened here.\n",
    "\n",
    "1. The pd.read_csv has enough built-in smarts to read the first row of the file, get the variable names from it.\n",
    "1. It then read all rows in the file, and used them to create a pandas DataFrame, which is like a set of Numpy arrays we can treat as a table.\n",
    "1. It created an automatic unique index, beginning with zero.\n",
    "1. It inferred the type of each variable from the data.  All were interpreted as strings, except the index that pandas created automatically.\n",
    "\n",
    "Let's explore this pandas DataFrame to learn some of its features.  Note that a pandas Series is like one column of this DataFrame, coupled with its own index column.  So the main difference between a Series and a DataFrame is that the latter has multiple columns. Columns can be of different data types, but within a column, must be consistent."
   ]
  },
  {
   "cell_type": "code",
   "execution_count": 39,
   "metadata": {},
   "outputs": [
    {
     "data": {
      "text/plain": [
       "(8000, 6)"
      ]
     },
     "execution_count": 39,
     "metadata": {},
     "output_type": "execute_result"
    }
   ],
   "source": [
    "df.shape"
   ]
  },
  {
   "cell_type": "code",
   "execution_count": 40,
   "metadata": {},
   "outputs": [
    {
     "data": {
      "text/plain": [
       "Index(['POPGROUP', 'label', 'GEOIDLONG', 'GEOID', 'geodisplay', 'Population'], dtype='object')"
      ]
     },
     "execution_count": 40,
     "metadata": {},
     "output_type": "execute_result"
    }
   ],
   "source": [
    "df.columns"
   ]
  },
  {
   "cell_type": "code",
   "execution_count": 41,
   "metadata": {},
   "outputs": [
    {
     "data": {
      "text/plain": [
       "POPGROUP       int64\n",
       "label         object\n",
       "GEOIDLONG     object\n",
       "GEOID          int64\n",
       "geodisplay    object\n",
       "Population     int64\n",
       "dtype: object"
      ]
     },
     "execution_count": 41,
     "metadata": {},
     "output_type": "execute_result"
    }
   ],
   "source": [
    "df.dtypes"
   ]
  },
  {
   "cell_type": "markdown",
   "metadata": {},
   "source": [
    "We can select subsets of the rows by indexing, and select specific columns by their name:"
   ]
  },
  {
   "cell_type": "code",
   "execution_count": 42,
   "metadata": {},
   "outputs": [
    {
     "data": {
      "text/plain": [
       "0    2937\n",
       "1    1974\n",
       "2    4865\n",
       "3    3703\n",
       "4    3517\n",
       "5    1571\n",
       "6    4206\n",
       "7    3594\n",
       "8    2302\n",
       "9    5678\n",
       "Name: Population, dtype: int64"
      ]
     },
     "execution_count": 42,
     "metadata": {},
     "output_type": "execute_result"
    }
   ],
   "source": [
    "df['Population'][:10]"
   ]
  },
  {
   "cell_type": "markdown",
   "metadata": {},
   "source": [
    "We can get all of our statistics on the Population column in one short command:"
   ]
  },
  {
   "cell_type": "code",
   "execution_count": 43,
   "metadata": {},
   "outputs": [
    {
     "data": {
      "text/plain": [
       "count     8000.000000\n",
       "mean      4656.669625\n",
       "std       1953.036084\n",
       "min        112.000000\n",
       "25%       3372.000000\n",
       "50%       4422.000000\n",
       "75%       5662.000000\n",
       "max      37452.000000\n",
       "Name: Population, dtype: float64"
      ]
     },
     "execution_count": 43,
     "metadata": {},
     "output_type": "execute_result"
    }
   ],
   "source": [
    "df['Population'].describe()"
   ]
  },
  {
   "cell_type": "markdown",
   "metadata": {},
   "source": [
    "Or get these values 'a la carte'.  You might recognize that these are essentially Numpy functions, but that in pandas we can now deal with multiple data types."
   ]
  },
  {
   "cell_type": "code",
   "execution_count": 44,
   "metadata": {},
   "outputs": [
    {
     "data": {
      "text/plain": [
       "112"
      ]
     },
     "execution_count": 44,
     "metadata": {},
     "output_type": "execute_result"
    }
   ],
   "source": [
    "df['Population'].min()"
   ]
  },
  {
   "cell_type": "code",
   "execution_count": 45,
   "metadata": {},
   "outputs": [
    {
     "data": {
      "text/plain": [
       "37452"
      ]
     },
     "execution_count": 45,
     "metadata": {},
     "output_type": "execute_result"
    }
   ],
   "source": [
    "df['Population'].max()"
   ]
  },
  {
   "cell_type": "code",
   "execution_count": 46,
   "metadata": {},
   "outputs": [
    {
     "data": {
      "text/plain": [
       "4422.0"
      ]
     },
     "execution_count": 46,
     "metadata": {},
     "output_type": "execute_result"
    }
   ],
   "source": [
    "df['Population'].median()"
   ]
  },
  {
   "cell_type": "markdown",
   "metadata": {},
   "source": [
    "We can also do some plotting of the data without much effort:"
   ]
  },
  {
   "cell_type": "code",
   "execution_count": 47,
   "metadata": {
    "collapsed": true
   },
   "outputs": [],
   "source": [
    "import matplotlib.pyplot as plt\n",
    "%matplotlib inline"
   ]
  },
  {
   "cell_type": "code",
   "execution_count": 48,
   "metadata": {},
   "outputs": [
    {
     "data": {
      "text/plain": [
       "array([[<matplotlib.axes._subplots.AxesSubplot object at 0x000000000B9AEB70>]], dtype=object)"
      ]
     },
     "execution_count": 48,
     "metadata": {},
     "output_type": "execute_result"
    },
    {
     "data": {
      "text/plain": [
       "<matplotlib.figure.Figure at 0xa9d6a20>"
      ]
     },
     "metadata": {},
     "output_type": "display_data"
    },
    {
     "data": {
      "image/png": "[encoded data removed]",
      "text/plain": [
       "<matplotlib.figure.Figure at 0xb6140b8>"
      ]
     },
     "metadata": {},
     "output_type": "display_data"
    }
   ],
   "source": [
    "plt.figure()\n",
    "df.hist(column='Population', bins=50)"
   ]
  },
  {
   "cell_type": "markdown",
   "metadata": {},
   "source": [
    "Note that we can use string operations we have already learned, and apply those to columns that are of type string.  The syntax is a bit different when used with pandas DataFrames.  Here, we create a State column and add it to df by splitting geodisplay and getting its third element.  Note that these string methods are reviewed in Pandas forData Analysis pages 206-206.  More advanced regex methods and other vectorized string methods are covered in pages 207-212."
   ]
  },
  {
   "cell_type": "code",
   "execution_count": 49,
   "metadata": {},
   "outputs": [
    {
     "data": {
      "text/html": [
       "<div>\n",
       "<style>\n",
       "    .dataframe thead tr:only-child th {\n",
       "        text-align: right;\n",
       "    }\n",
       "\n",
       "    .dataframe thead th {\n",
       "        text-align: left;\n",
       "    }\n",
       "\n",
       "    .dataframe tbody tr th {\n",
       "        vertical-align: top;\n",
       "    }\n",
       "</style>\n",
       "<table border=\"1\" class=\"dataframe\">\n",
       "  <thead>\n",
       "    <tr style=\"text-align: right;\">\n",
       "      <th></th>\n",
       "      <th>POPGROUP</th>\n",
       "      <th>label</th>\n",
       "      <th>GEOIDLONG</th>\n",
       "      <th>GEOID</th>\n",
       "      <th>geodisplay</th>\n",
       "      <th>Population</th>\n",
       "      <th>State</th>\n",
       "    </tr>\n",
       "  </thead>\n",
       "  <tbody>\n",
       "    <tr>\n",
       "      <th>0</th>\n",
       "      <td>1</td>\n",
       "      <td>Total population</td>\n",
       "      <td>1400000US06001400100</td>\n",
       "      <td>6001400100</td>\n",
       "      <td>Census Tract 4001, Alameda County, California</td>\n",
       "      <td>2937</td>\n",
       "      <td>California</td>\n",
       "    </tr>\n",
       "    <tr>\n",
       "      <th>1</th>\n",
       "      <td>1</td>\n",
       "      <td>Total population</td>\n",
       "      <td>1400000US06001400200</td>\n",
       "      <td>6001400200</td>\n",
       "      <td>Census Tract 4002, Alameda County, California</td>\n",
       "      <td>1974</td>\n",
       "      <td>California</td>\n",
       "    </tr>\n",
       "    <tr>\n",
       "      <th>2</th>\n",
       "      <td>1</td>\n",
       "      <td>Total population</td>\n",
       "      <td>1400000US06001400300</td>\n",
       "      <td>6001400300</td>\n",
       "      <td>Census Tract 4003, Alameda County, California</td>\n",
       "      <td>4865</td>\n",
       "      <td>California</td>\n",
       "    </tr>\n",
       "    <tr>\n",
       "      <th>3</th>\n",
       "      <td>1</td>\n",
       "      <td>Total population</td>\n",
       "      <td>1400000US06001400400</td>\n",
       "      <td>6001400400</td>\n",
       "      <td>Census Tract 4004, Alameda County, California</td>\n",
       "      <td>3703</td>\n",
       "      <td>California</td>\n",
       "    </tr>\n",
       "    <tr>\n",
       "      <th>4</th>\n",
       "      <td>1</td>\n",
       "      <td>Total population</td>\n",
       "      <td>1400000US06001400500</td>\n",
       "      <td>6001400500</td>\n",
       "      <td>Census Tract 4005, Alameda County, California</td>\n",
       "      <td>3517</td>\n",
       "      <td>California</td>\n",
       "    </tr>\n",
       "  </tbody>\n",
       "</table>\n",
       "</div>"
      ],
      "text/plain": [
       "   POPGROUP             label             GEOIDLONG       GEOID  \\\n",
       "0         1  Total population  1400000US06001400100  6001400100   \n",
       "1         1  Total population  1400000US06001400200  6001400200   \n",
       "2         1  Total population  1400000US06001400300  6001400300   \n",
       "3         1  Total population  1400000US06001400400  6001400400   \n",
       "4         1  Total population  1400000US06001400500  6001400500   \n",
       "\n",
       "                                      geodisplay  Population        State  \n",
       "0  Census Tract 4001, Alameda County, California        2937   California  \n",
       "1  Census Tract 4002, Alameda County, California        1974   California  \n",
       "2  Census Tract 4003, Alameda County, California        4865   California  \n",
       "3  Census Tract 4004, Alameda County, California        3703   California  \n",
       "4  Census Tract 4005, Alameda County, California        3517   California  "
      ]
     },
     "execution_count": 49,
     "metadata": {},
     "output_type": "execute_result"
    }
   ],
   "source": [
    "df['State'] = df['geodisplay'].str.split(',').str[2]\n",
    "df[:5]"
   ]
  },
  {
   "cell_type": "markdown",
   "metadata": {},
   "source": [
    "Next let's create a Tract column with just the tract number, and remove the 'Census Tract ' from it."
   ]
  },
  {
   "cell_type": "code",
   "execution_count": 50,
   "metadata": {},
   "outputs": [
    {
     "data": {
      "text/html": [
       "<div>\n",
       "<style>\n",
       "    .dataframe thead tr:only-child th {\n",
       "        text-align: right;\n",
       "    }\n",
       "\n",
       "    .dataframe thead th {\n",
       "        text-align: left;\n",
       "    }\n",
       "\n",
       "    .dataframe tbody tr th {\n",
       "        vertical-align: top;\n",
       "    }\n",
       "</style>\n",
       "<table border=\"1\" class=\"dataframe\">\n",
       "  <thead>\n",
       "    <tr style=\"text-align: right;\">\n",
       "      <th></th>\n",
       "      <th>POPGROUP</th>\n",
       "      <th>label</th>\n",
       "      <th>GEOIDLONG</th>\n",
       "      <th>GEOID</th>\n",
       "      <th>geodisplay</th>\n",
       "      <th>Population</th>\n",
       "      <th>State</th>\n",
       "      <th>Tract</th>\n",
       "    </tr>\n",
       "  </thead>\n",
       "  <tbody>\n",
       "    <tr>\n",
       "      <th>0</th>\n",
       "      <td>1</td>\n",
       "      <td>Total population</td>\n",
       "      <td>1400000US06001400100</td>\n",
       "      <td>6001400100</td>\n",
       "      <td>Census Tract 4001, Alameda County, California</td>\n",
       "      <td>2937</td>\n",
       "      <td>California</td>\n",
       "      <td>4001</td>\n",
       "    </tr>\n",
       "    <tr>\n",
       "      <th>1</th>\n",
       "      <td>1</td>\n",
       "      <td>Total population</td>\n",
       "      <td>1400000US06001400200</td>\n",
       "      <td>6001400200</td>\n",
       "      <td>Census Tract 4002, Alameda County, California</td>\n",
       "      <td>1974</td>\n",
       "      <td>California</td>\n",
       "      <td>4002</td>\n",
       "    </tr>\n",
       "    <tr>\n",
       "      <th>2</th>\n",
       "      <td>1</td>\n",
       "      <td>Total population</td>\n",
       "      <td>1400000US06001400300</td>\n",
       "      <td>6001400300</td>\n",
       "      <td>Census Tract 4003, Alameda County, California</td>\n",
       "      <td>4865</td>\n",
       "      <td>California</td>\n",
       "      <td>4003</td>\n",
       "    </tr>\n",
       "    <tr>\n",
       "      <th>3</th>\n",
       "      <td>1</td>\n",
       "      <td>Total population</td>\n",
       "      <td>1400000US06001400400</td>\n",
       "      <td>6001400400</td>\n",
       "      <td>Census Tract 4004, Alameda County, California</td>\n",
       "      <td>3703</td>\n",
       "      <td>California</td>\n",
       "      <td>4004</td>\n",
       "    </tr>\n",
       "    <tr>\n",
       "      <th>4</th>\n",
       "      <td>1</td>\n",
       "      <td>Total population</td>\n",
       "      <td>1400000US06001400500</td>\n",
       "      <td>6001400500</td>\n",
       "      <td>Census Tract 4005, Alameda County, California</td>\n",
       "      <td>3517</td>\n",
       "      <td>California</td>\n",
       "      <td>4005</td>\n",
       "    </tr>\n",
       "  </tbody>\n",
       "</table>\n",
       "</div>"
      ],
      "text/plain": [
       "   POPGROUP             label             GEOIDLONG       GEOID  \\\n",
       "0         1  Total population  1400000US06001400100  6001400100   \n",
       "1         1  Total population  1400000US06001400200  6001400200   \n",
       "2         1  Total population  1400000US06001400300  6001400300   \n",
       "3         1  Total population  1400000US06001400400  6001400400   \n",
       "4         1  Total population  1400000US06001400500  6001400500   \n",
       "\n",
       "                                      geodisplay  Population        State  \\\n",
       "0  Census Tract 4001, Alameda County, California        2937   California   \n",
       "1  Census Tract 4002, Alameda County, California        1974   California   \n",
       "2  Census Tract 4003, Alameda County, California        4865   California   \n",
       "3  Census Tract 4004, Alameda County, California        3703   California   \n",
       "4  Census Tract 4005, Alameda County, California        3517   California   \n",
       "\n",
       "  Tract  \n",
       "0  4001  \n",
       "1  4002  \n",
       "2  4003  \n",
       "3  4004  \n",
       "4  4005  "
      ]
     },
     "execution_count": 50,
     "metadata": {},
     "output_type": "execute_result"
    }
   ],
   "source": [
    "df['Tract']=df['geodisplay'].str.split(',').str[0].str.strip('Census Tract ')\n",
    "df[:5]"
   ]
  },
  {
   "cell_type": "markdown",
   "metadata": {},
   "source": [
    "Here is another way to do the last step, using replace."
   ]
  },
  {
   "cell_type": "code",
   "execution_count": 51,
   "metadata": {},
   "outputs": [
    {
     "data": {
      "text/html": [
       "<div>\n",
       "<style>\n",
       "    .dataframe thead tr:only-child th {\n",
       "        text-align: right;\n",
       "    }\n",
       "\n",
       "    .dataframe thead th {\n",
       "        text-align: left;\n",
       "    }\n",
       "\n",
       "    .dataframe tbody tr th {\n",
       "        vertical-align: top;\n",
       "    }\n",
       "</style>\n",
       "<table border=\"1\" class=\"dataframe\">\n",
       "  <thead>\n",
       "    <tr style=\"text-align: right;\">\n",
       "      <th></th>\n",
       "      <th>POPGROUP</th>\n",
       "      <th>label</th>\n",
       "      <th>GEOIDLONG</th>\n",
       "      <th>GEOID</th>\n",
       "      <th>geodisplay</th>\n",
       "      <th>Population</th>\n",
       "      <th>State</th>\n",
       "      <th>Tract</th>\n",
       "    </tr>\n",
       "  </thead>\n",
       "  <tbody>\n",
       "    <tr>\n",
       "      <th>0</th>\n",
       "      <td>1</td>\n",
       "      <td>Total population</td>\n",
       "      <td>1400000US06001400100</td>\n",
       "      <td>6001400100</td>\n",
       "      <td>Census Tract 4001, Alameda County, California</td>\n",
       "      <td>2937</td>\n",
       "      <td>California</td>\n",
       "      <td>4001</td>\n",
       "    </tr>\n",
       "    <tr>\n",
       "      <th>1</th>\n",
       "      <td>1</td>\n",
       "      <td>Total population</td>\n",
       "      <td>1400000US06001400200</td>\n",
       "      <td>6001400200</td>\n",
       "      <td>Census Tract 4002, Alameda County, California</td>\n",
       "      <td>1974</td>\n",
       "      <td>California</td>\n",
       "      <td>4002</td>\n",
       "    </tr>\n",
       "    <tr>\n",
       "      <th>2</th>\n",
       "      <td>1</td>\n",
       "      <td>Total population</td>\n",
       "      <td>1400000US06001400300</td>\n",
       "      <td>6001400300</td>\n",
       "      <td>Census Tract 4003, Alameda County, California</td>\n",
       "      <td>4865</td>\n",
       "      <td>California</td>\n",
       "      <td>4003</td>\n",
       "    </tr>\n",
       "    <tr>\n",
       "      <th>3</th>\n",
       "      <td>1</td>\n",
       "      <td>Total population</td>\n",
       "      <td>1400000US06001400400</td>\n",
       "      <td>6001400400</td>\n",
       "      <td>Census Tract 4004, Alameda County, California</td>\n",
       "      <td>3703</td>\n",
       "      <td>California</td>\n",
       "      <td>4004</td>\n",
       "    </tr>\n",
       "    <tr>\n",
       "      <th>4</th>\n",
       "      <td>1</td>\n",
       "      <td>Total population</td>\n",
       "      <td>1400000US06001400500</td>\n",
       "      <td>6001400500</td>\n",
       "      <td>Census Tract 4005, Alameda County, California</td>\n",
       "      <td>3517</td>\n",
       "      <td>California</td>\n",
       "      <td>4005</td>\n",
       "    </tr>\n",
       "  </tbody>\n",
       "</table>\n",
       "</div>"
      ],
      "text/plain": [
       "   POPGROUP             label             GEOIDLONG       GEOID  \\\n",
       "0         1  Total population  1400000US06001400100  6001400100   \n",
       "1         1  Total population  1400000US06001400200  6001400200   \n",
       "2         1  Total population  1400000US06001400300  6001400300   \n",
       "3         1  Total population  1400000US06001400400  6001400400   \n",
       "4         1  Total population  1400000US06001400500  6001400500   \n",
       "\n",
       "                                      geodisplay  Population        State  \\\n",
       "0  Census Tract 4001, Alameda County, California        2937   California   \n",
       "1  Census Tract 4002, Alameda County, California        1974   California   \n",
       "2  Census Tract 4003, Alameda County, California        4865   California   \n",
       "3  Census Tract 4004, Alameda County, California        3703   California   \n",
       "4  Census Tract 4005, Alameda County, California        3517   California   \n",
       "\n",
       "  Tract  \n",
       "0  4001  \n",
       "1  4002  \n",
       "2  4003  \n",
       "3  4004  \n",
       "4  4005  "
      ]
     },
     "execution_count": 51,
     "metadata": {},
     "output_type": "execute_result"
    }
   ],
   "source": [
    "df['Tract']=df['geodisplay'].str.split(',').str[0].str.replace('Census Tract ', '')\n",
    "df[:5]"
   ]
  },
  {
   "cell_type": "code",
   "execution_count": null,
   "metadata": {
    "collapsed": true
   },
   "outputs": [],
   "source": []
  }
 ],
 "metadata": {
  "anaconda-cloud": {},
  "kernelspec": {
   "display_name": "Python 3",
   "language": "python",
   "name": "python3"
  },
  "language_info": {
   "codemirror_mode": {
    "name": "ipython",
    "version": 3
   },
   "file_extension": ".py",
   "mimetype": "text/x-python",
   "name": "python",
   "nbconvert_exporter": "python",
   "pygments_lexer": "ipython3",
   "version": "3.6.3"
  }
 },
 "nbformat": 4,
 "nbformat_minor": 1
}
