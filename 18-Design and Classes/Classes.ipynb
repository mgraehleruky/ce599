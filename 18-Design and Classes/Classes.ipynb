{
 "cells": [
  {
   "cell_type": "markdown",
   "metadata": {},
   "source": [
    "# Design and classes\n",
    "\n",
    "Adapted from Chapters 15, 16 and 17 of Think Python\n",
    "\n",
    "http://greenteapress.com/thinkpython/thinkpython.pdf"
   ]
  },
  {
   "cell_type": "markdown",
   "metadata": {},
   "source": [
    "### User Defined Types (Classes)\n",
    "\n",
    "We have used many types of objects.  We can also define our own.  Consider the need to store points in a two-dimensional grid.  "
   ]
  },
  {
   "cell_type": "code",
   "execution_count": 1,
   "metadata": {
    "collapsed": true
   },
   "outputs": [],
   "source": [
    "# we can define a type of object called a point\n",
    "class Point(object):\n",
    "    \"\"\"Represents a point in 2-D space.\"\"\""
   ]
  },
  {
   "cell_type": "code",
   "execution_count": 2,
   "metadata": {},
   "outputs": [
    {
     "data": {
      "text/plain": [
       "<__main__.Point at 0x57bbe10>"
      ]
     },
     "execution_count": 2,
     "metadata": {},
     "output_type": "execute_result"
    }
   ],
   "source": [
    "# then we can create a new instance of that object\n",
    "p = Point()\n",
    "p"
   ]
  },
  {
   "cell_type": "code",
   "execution_count": 8,
   "metadata": {
    "collapsed": true
   },
   "outputs": [],
   "source": [
    "# we can give it attributes (variables) using dot notation\n",
    "p.x = 3.0\n",
    "p.y = 4.0"
   ]
  },
  {
   "cell_type": "code",
   "execution_count": 9,
   "metadata": {},
   "outputs": [
    {
     "data": {
      "text/plain": [
       "3.0"
      ]
     },
     "execution_count": 9,
     "metadata": {},
     "output_type": "execute_result"
    }
   ],
   "source": [
    "# and access those attributes (variables) also using dot notation\n",
    "p.x"
   ]
  },
  {
   "cell_type": "code",
   "execution_count": 10,
   "metadata": {},
   "outputs": [
    {
     "data": {
      "text/plain": [
       "4.0"
      ]
     },
     "execution_count": 10,
     "metadata": {},
     "output_type": "execute_result"
    }
   ],
   "source": [
    "p.y"
   ]
  },
  {
   "cell_type": "code",
   "execution_count": 11,
   "metadata": {
    "collapsed": true
   },
   "outputs": [],
   "source": [
    "# we can define methods that accept an instance as an argument\n",
    "def print_point(p):\n",
    "    print('(', p.x, ',', p.y, ')')"
   ]
  },
  {
   "cell_type": "code",
   "execution_count": 12,
   "metadata": {},
   "outputs": [
    {
     "name": "stdout",
     "output_type": "stream",
     "text": [
      "( 3.0 , 4.0 )\n"
     ]
    }
   ],
   "source": [
    "print_point(p)"
   ]
  },
  {
   "cell_type": "code",
   "execution_count": 13,
   "metadata": {
    "collapsed": true
   },
   "outputs": [],
   "source": [
    "# classes can include instances of other classes as attributes\n",
    "class Line(object): \n",
    "    \"\"\"Defines a line between two points \"\"\""
   ]
  },
  {
   "cell_type": "code",
   "execution_count": 14,
   "metadata": {
    "collapsed": true
   },
   "outputs": [],
   "source": [
    "l = Line()\n",
    "\n",
    "l.point1 = Point()\n",
    "l.point1.x = 1\n",
    "l.point1.y = 1\n",
    "\n",
    "l.point2 = Point()\n",
    "l.point2.x = 4\n",
    "l.point2.y = 5"
   ]
  },
  {
   "cell_type": "code",
   "execution_count": 15,
   "metadata": {
    "collapsed": true
   },
   "outputs": [],
   "source": [
    "# instances can be return values\n",
    "def find_midpoint(line): \n",
    "    p = Point()\n",
    "    p.x = (line.point1.x + line.point2.x) / 2.0\n",
    "    p.y = (line.point1.y + line.point2.y) / 2.0\n",
    "    return p"
   ]
  },
  {
   "cell_type": "code",
   "execution_count": 16,
   "metadata": {},
   "outputs": [
    {
     "name": "stdout",
     "output_type": "stream",
     "text": [
      "( 2.5 , 3.0 )\n"
     ]
    }
   ],
   "source": [
    "midpoint = find_midpoint(l)\n",
    "print_point(midpoint)"
   ]
  },
  {
   "cell_type": "code",
   "execution_count": 19,
   "metadata": {},
   "outputs": [
    {
     "name": "stdout",
     "output_type": "stream",
     "text": [
      "( 5 , 3.0 )\n",
      "( 5 , 3.0 )\n",
      "( 5 , 3.0 )\n"
     ]
    }
   ],
   "source": [
    "print_point(midpoint)\n",
    "# By default, assignment creates an alias!\n",
    "mp2 = midpoint\n",
    "mp2.x = 5\n",
    "\n",
    "# What is the value of midpoint?  \n",
    "print_point(mp2)\n",
    "print_point(midpoint)"
   ]
  },
  {
   "cell_type": "markdown",
   "metadata": {},
   "source": [
    "### We use pointers to save memory from copying and pasting (an expensive operation) variables.  We would like to point to the object instead."
   ]
  },
  {
   "cell_type": "code",
   "execution_count": 20,
   "metadata": {},
   "outputs": [
    {
     "name": "stdout",
     "output_type": "stream",
     "text": [
      "( 5 , 3.0 )\n",
      "( 100 , 3.0 )\n"
     ]
    }
   ],
   "source": [
    "# If you need to get around this, use copy:\n",
    "import copy\n",
    "mp3 = copy.copy(midpoint)\n",
    "mp3.x = 100\n",
    "\n",
    "# What is the value of midpoint?\n",
    "print_point(midpoint)\n",
    "print_point(mp3)"
   ]
  },
  {
   "cell_type": "code",
   "execution_count": 21,
   "metadata": {},
   "outputs": [
    {
     "data": {
      "text/plain": [
       "<__main__.Point at 0x69e9048>"
      ]
     },
     "execution_count": 21,
     "metadata": {},
     "output_type": "execute_result"
    }
   ],
   "source": [
    "midpoint"
   ]
  },
  {
   "cell_type": "code",
   "execution_count": 22,
   "metadata": {},
   "outputs": [
    {
     "data": {
      "text/plain": [
       "<__main__.Point at 0x69e9048>"
      ]
     },
     "execution_count": 22,
     "metadata": {},
     "output_type": "execute_result"
    }
   ],
   "source": [
    "mp2"
   ]
  },
  {
   "cell_type": "code",
   "execution_count": 23,
   "metadata": {},
   "outputs": [
    {
     "data": {
      "text/plain": [
       "<__main__.Point at 0x69e5908>"
      ]
     },
     "execution_count": 23,
     "metadata": {},
     "output_type": "execute_result"
    }
   ],
   "source": [
    "mp3"
   ]
  },
  {
   "cell_type": "markdown",
   "metadata": {},
   "source": [
    "### Notice that mp2 and midpoint are at the same memory location, yet mp3 is different (a copy)."
   ]
  },
  {
   "cell_type": "markdown",
   "metadata": {},
   "source": [
    "### Classes and Functions\n",
    "\n",
    "Pure Functions - A pure function because it does not modify any of the objects passed to it as arguments and it has no effect, like displaying a value or getting user input, other than returning a value.\n",
    "\n",
    "Modifiers - Sometimes it is useful for a function to modify the objects it gets as parameters. In that case, the changes are visible to the caller. Functions that work this way are called modifiers."
   ]
  },
  {
   "cell_type": "code",
   "execution_count": 24,
   "metadata": {
    "collapsed": true
   },
   "outputs": [],
   "source": [
    "# define a class\n",
    "class Time(object):\n",
    "    \"\"\"Represents the time of day.\n",
    "    attributes: hour, minute, second\n",
    "    \"\"\"\n"
   ]
  },
  {
   "cell_type": "code",
   "execution_count": 25,
   "metadata": {
    "collapsed": true
   },
   "outputs": [],
   "source": [
    "def print_time(t):\n",
    "    print(str(t.hour) + ':' + str(t.minute) + ':' + str(t.second))"
   ]
  },
  {
   "cell_type": "code",
   "execution_count": 45,
   "metadata": {
    "collapsed": true
   },
   "outputs": [],
   "source": [
    "# define a function\n",
    "def add_time(t1, t2):\n",
    "    sum = Time()\n",
    "    sum.hour = t1.hour + t2.hour\n",
    "    sum.minute = t1.minute + t2.minute\n",
    "    sum.second = t1.second + t2.second\n",
    "    while(sum.second>60):\n",
    "        sum.second = sum.second-60\n",
    "        sum.minute = sum.minute+1\n",
    "    while(sum.minute>60):\n",
    "        sum.minute = sum.minute-60\n",
    "        sum.hour = sum.hour+1\n",
    "    while(sum.hour>=24):\n",
    "        sum.hour = sum.hour-24\n",
    "    return sum"
   ]
  },
  {
   "cell_type": "code",
   "execution_count": 46,
   "metadata": {},
   "outputs": [
    {
     "name": "stdout",
     "output_type": "stream",
     "text": [
      "9:45:0\n"
     ]
    }
   ],
   "source": [
    "start = Time()\n",
    "start.hour = 9\n",
    "start.minute = 45\n",
    "start.second = 0\n",
    "\n",
    "print_time(start)"
   ]
  },
  {
   "cell_type": "code",
   "execution_count": 51,
   "metadata": {},
   "outputs": [
    {
     "name": "stdout",
     "output_type": "stream",
     "text": [
      "1:10:0\n"
     ]
    }
   ],
   "source": [
    "duration = Time()\n",
    "duration.hour = 1\n",
    "duration.minute = 10\n",
    "duration.second = 0\n",
    "\n",
    "print_time(duration)"
   ]
  },
  {
   "cell_type": "code",
   "execution_count": 52,
   "metadata": {},
   "outputs": [
    {
     "name": "stdout",
     "output_type": "stream",
     "text": [
      "10:55:0\n"
     ]
    }
   ],
   "source": [
    "done = add_time(start, duration)\n",
    "print_time(done)"
   ]
  },
  {
   "cell_type": "markdown",
   "metadata": {},
   "source": [
    "#### Quiz\n",
    "\n",
    "What is wrong with this function?  Fix it."
   ]
  },
  {
   "cell_type": "code",
   "execution_count": 58,
   "metadata": {
    "collapsed": true
   },
   "outputs": [],
   "source": [
    "# define a function\n",
    "def add_time(t1, t2):\n",
    "    sum = Time()\n",
    "    sum.hour = t1.hour + t2.hour\n",
    "    sum.minute = t1.minute + t2.minute\n",
    "    sum.second = t1.second + t2.second\n",
    "    return sum"
   ]
  },
  {
   "cell_type": "code",
   "execution_count": null,
   "metadata": {
    "collapsed": true
   },
   "outputs": [],
   "source": []
  },
  {
   "cell_type": "code",
   "execution_count": 59,
   "metadata": {
    "collapsed": true
   },
   "outputs": [],
   "source": [
    "# modifier\n",
    "def increment(time, seconds):\n",
    "    time.second += seconds\n",
    "    if time.second >= 60:\n",
    "        time.second -= 60\n",
    "        time.minute += 1\n",
    "    if time.minute >= 60:\n",
    "        time.minute -= 60\n",
    "        time.hour += 1"
   ]
  },
  {
   "cell_type": "code",
   "execution_count": 60,
   "metadata": {},
   "outputs": [
    {
     "name": "stdout",
     "output_type": "stream",
     "text": [
      "9:47:30\n",
      "9:48:45\n"
     ]
    }
   ],
   "source": [
    "print_time(start)\n",
    "increment(start, 75)\n",
    "print_time(start)"
   ]
  },
  {
   "cell_type": "markdown",
   "metadata": {},
   "source": [
    "#### Quiz\n",
    "\n",
    "What is wrong with this modifier?  How would you fix it?"
   ]
  },
  {
   "cell_type": "code",
   "execution_count": 61,
   "metadata": {
    "collapsed": true
   },
   "outputs": [],
   "source": [
    "# same mistake as first.. while loop or modulus will take care of it\n",
    "def increment(time, seconds):\n",
    "    time.second += seconds\n",
    "    while time.second >= 60:\n",
    "        time.second -= 60\n",
    "        time.minute += 1\n",
    "    while time.minute >= 60:\n",
    "        time.minute -= 60\n",
    "        time.hour += 1"
   ]
  },
  {
   "cell_type": "markdown",
   "metadata": {},
   "source": [
    "#### Recommendation from Downey:\n",
    "\n",
    "Anything that can be done with modifiers can also be done with pure functions. In fact,\n",
    "some programming languages only allow pure functions. There is some evidence that\n",
    "programs that use pure functions are faster to develop and less error-prone than programs\n",
    "that use modifiers. But modifiers are convenient at times, and functional programs tend to\n",
    "be less efficient.\n",
    "\n",
    "In general, I recommend that you write pure functions whenever it is reasonable and resort\n",
    "to modifiers only if there is a compelling advantage. This approach might be called a\n",
    "functional programming style."
   ]
  },
  {
   "cell_type": "markdown",
   "metadata": {},
   "source": [
    "### Classes and Methods\n",
    "(from Downey)\n",
    "\n",
    "Python is an object-oriented programming language.  Some characteristics of object-oriented programming include:\n",
    "\n",
    "• Programs are made up of object definitions and function definitions, and most of the\n",
    "computation is expressed in terms of operations on objects.\n",
    "\n",
    "• Each object definition corresponds to some object or concept in the real world, and\n",
    "the functions that operate on that object correspond to the ways real-world objects\n",
    "interact.\n",
    "\n",
    "An important feature of OO programming is methods.  A method is a function that is associated with a particular class. Methods are semantically the same as functions, but there are two syntactic differences: \n",
    "\n",
    "• Methods are defined inside a class definition in order to make the relationship between\n",
    "the class and the method explicit.\n",
    "\n",
    "• The syntax for invoking a method is different from the syntax for calling a function."
   ]
  },
  {
   "cell_type": "code",
   "execution_count": 62,
   "metadata": {
    "collapsed": true
   },
   "outputs": [],
   "source": [
    "# previously we had a print_time() method.  \n",
    "# since that method always works on a Time object, it would be logical to \n",
    "# associated with the Time class.  \n",
    "\n",
    "class Time(object):\n",
    "    \"\"\"Represents the time of day.\n",
    "    attributes: hour, minute, second\n",
    "    \"\"\"\n",
    "    \n",
    "    def print_time(t):\n",
    "        print(str(t.hour) + ':' + str(t.minute) + ':' + str(t.second))"
   ]
  },
  {
   "cell_type": "code",
   "execution_count": 63,
   "metadata": {
    "collapsed": true
   },
   "outputs": [],
   "source": [
    "start = Time()\n",
    "start.hour = 9\n",
    "start.minute = 45\n",
    "start.second = 0"
   ]
  },
  {
   "cell_type": "code",
   "execution_count": 64,
   "metadata": {},
   "outputs": [
    {
     "name": "stdout",
     "output_type": "stream",
     "text": [
      "9:45:0\n",
      "9:45:0\n"
     ]
    }
   ],
   "source": [
    "# there are two ways to call this.\n",
    "Time.print_time(start)\n",
    "start.print_time()"
   ]
  },
  {
   "cell_type": "code",
   "execution_count": 65,
   "metadata": {
    "collapsed": true
   },
   "outputs": [],
   "source": [
    "# Note that in the latter, the object is automatically passed as the first argument\n",
    "# to make this obvious, the convention is to name the first argument self\n",
    "\n",
    "class Time(object):\n",
    "    \"\"\"Represents the time of day.\n",
    "    attributes: hour, minute, second\n",
    "    \"\"\"\n",
    "    \n",
    "    def print_time(self):\n",
    "        print(str(self.hour) + ':' + str(self.minute) + ':' + str(self.second))"
   ]
  },
  {
   "cell_type": "code",
   "execution_count": 66,
   "metadata": {},
   "outputs": [
    {
     "name": "stdout",
     "output_type": "stream",
     "text": [
      "9:45:0\n"
     ]
    }
   ],
   "source": [
    "start.print_time()"
   ]
  },
  {
   "cell_type": "code",
   "execution_count": 67,
   "metadata": {
    "collapsed": true
   },
   "outputs": [],
   "source": [
    "# you can add methods that do more complicated stuff, including modify the object itself\n",
    "\n",
    "class Time(object):\n",
    "    \"\"\"Represents the time of day.\n",
    "    attributes: hour, minute, second\n",
    "    \"\"\"\n",
    "    \n",
    "    def print_time(self):\n",
    "        print(str(self.hour) + ':' + str(self.minute) + ':' + str(self.second))\n",
    "        \n",
    "    def increment(self, seconds):\n",
    "        self.second += seconds\n",
    "        if self.second >= 60:\n",
    "            self.second -= 60\n",
    "            self.minute += 1\n",
    "        if self.minute >= 60:\n",
    "            self.minute -= 60\n",
    "            self.hour += 1"
   ]
  },
  {
   "cell_type": "code",
   "execution_count": 68,
   "metadata": {
    "collapsed": true
   },
   "outputs": [],
   "source": [
    "start = Time()\n",
    "start.hour = 9\n",
    "start.minute = 45\n",
    "start.second = 0"
   ]
  },
  {
   "cell_type": "code",
   "execution_count": 69,
   "metadata": {},
   "outputs": [
    {
     "name": "stdout",
     "output_type": "stream",
     "text": [
      "9:45:0\n",
      "9:46:0\n"
     ]
    }
   ],
   "source": [
    "start.print_time()\n",
    "start.increment(60)\n",
    "start.print_time()"
   ]
  },
  {
   "cell_type": "markdown",
   "metadata": {},
   "source": [
    "#### The init method\n",
    "\n",
    "The init method (short for “initialization”) is a special method that gets invoked when an\n",
    "object is instantiated."
   ]
  },
  {
   "cell_type": "code",
   "execution_count": 71,
   "metadata": {
    "collapsed": true
   },
   "outputs": [],
   "source": [
    "\n",
    "class Time(object):\n",
    "    \"\"\"Represents the time of day.\n",
    "    attributes: hour, minute, second\n",
    "    \"\"\"\n",
    "    def __init__(self, hour=0, minute=0, second=0):\n",
    "        self.hour = hour\n",
    "        self.minute = minute\n",
    "        self.second = second\n",
    "    \n",
    "    def print_time(self):\n",
    "        print(str(self.hour) + ':' + str(self.minute) + ':' + str(self.second))\n",
    "        \n",
    "    def increment(self, seconds):\n",
    "        self.second += seconds\n",
    "        if self.second >= 60:\n",
    "            self.second -= 60\n",
    "            self.minute += 1\n",
    "        if self.minute >= 60:\n",
    "            self.minute -= 60\n",
    "            self.hour += 1"
   ]
  },
  {
   "cell_type": "code",
   "execution_count": 72,
   "metadata": {},
   "outputs": [
    {
     "name": "stdout",
     "output_type": "stream",
     "text": [
      "0:0:0\n"
     ]
    }
   ],
   "source": [
    "t1 = Time()\n",
    "t1.print_time()"
   ]
  },
  {
   "cell_type": "code",
   "execution_count": 73,
   "metadata": {},
   "outputs": [
    {
     "name": "stdout",
     "output_type": "stream",
     "text": [
      "9:45:13\n"
     ]
    }
   ],
   "source": [
    "t2 = Time(9, 45, 13)\n",
    "t2.print_time()"
   ]
  },
  {
   "cell_type": "markdown",
   "metadata": {},
   "source": [
    "#### A few questions\n",
    "\n",
    "1. What's with the assignment in the arguments list?\n",
    "2. What's the difference between hour and self.hour?\n",
    "3. Why is it good practice to define all class attributes inside __init__?"
   ]
  },
  {
   "cell_type": "markdown",
   "metadata": {},
   "source": [
    "#### Polymorphism\n",
    "\n",
    "Functions that can work with several types of arguments called polymorphic. Polymorphism can\n",
    "facilitate code reuse. For example, the built-in function sum, which adds the elements of a\n",
    "sequence, works as long as the elements of the sequence support addition."
   ]
  },
  {
   "cell_type": "code",
   "execution_count": 74,
   "metadata": {},
   "outputs": [
    {
     "name": "stdout",
     "output_type": "stream",
     "text": [
      "9:45:43\n"
     ]
    }
   ],
   "source": [
    "# for example, increments works when given an integer\n",
    "t2 = Time(9, 45, 13)\n",
    "t2.increment(30)\n",
    "t2.print_time()"
   ]
  },
  {
   "cell_type": "code",
   "execution_count": 75,
   "metadata": {},
   "outputs": [
    {
     "name": "stdout",
     "output_type": "stream",
     "text": [
      "9:46:13.0\n"
     ]
    }
   ],
   "source": [
    "# and a float\n",
    "t2.increment(30.0)\n",
    "t2.print_time()"
   ]
  },
  {
   "cell_type": "code",
   "execution_count": 76,
   "metadata": {},
   "outputs": [
    {
     "ename": "TypeError",
     "evalue": "unsupported operand type(s) for +=: 'float' and 'str'",
     "output_type": "error",
     "traceback": [
      "\u001b[1;31m---------------------------------------------------------------------------\u001b[0m",
      "\u001b[1;31mTypeError\u001b[0m                                 Traceback (most recent call last)",
      "\u001b[1;32m<ipython-input-76-d00db81c0fd5>\u001b[0m in \u001b[0;36m<module>\u001b[1;34m()\u001b[0m\n\u001b[0;32m      1\u001b[0m \u001b[1;31m# what about a string\u001b[0m\u001b[1;33m\u001b[0m\u001b[1;33m\u001b[0m\u001b[0m\n\u001b[1;32m----> 2\u001b[1;33m \u001b[0mt2\u001b[0m\u001b[1;33m.\u001b[0m\u001b[0mincrement\u001b[0m\u001b[1;33m(\u001b[0m\u001b[1;34m'30'\u001b[0m\u001b[1;33m)\u001b[0m\u001b[1;33m\u001b[0m\u001b[0m\n\u001b[0m\u001b[0;32m      3\u001b[0m \u001b[0mt2\u001b[0m\u001b[1;33m.\u001b[0m\u001b[0mprint_time\u001b[0m\u001b[1;33m(\u001b[0m\u001b[1;33m)\u001b[0m\u001b[1;33m\u001b[0m\u001b[0m\n",
      "\u001b[1;32m<ipython-input-71-16de322f7c36>\u001b[0m in \u001b[0;36mincrement\u001b[1;34m(self, seconds)\u001b[0m\n\u001b[0;32m     13\u001b[0m \u001b[1;33m\u001b[0m\u001b[0m\n\u001b[0;32m     14\u001b[0m     \u001b[1;32mdef\u001b[0m \u001b[0mincrement\u001b[0m\u001b[1;33m(\u001b[0m\u001b[0mself\u001b[0m\u001b[1;33m,\u001b[0m \u001b[0mseconds\u001b[0m\u001b[1;33m)\u001b[0m\u001b[1;33m:\u001b[0m\u001b[1;33m\u001b[0m\u001b[0m\n\u001b[1;32m---> 15\u001b[1;33m         \u001b[0mself\u001b[0m\u001b[1;33m.\u001b[0m\u001b[0msecond\u001b[0m \u001b[1;33m+=\u001b[0m \u001b[0mseconds\u001b[0m\u001b[1;33m\u001b[0m\u001b[0m\n\u001b[0m\u001b[0;32m     16\u001b[0m         \u001b[1;32mif\u001b[0m \u001b[0mself\u001b[0m\u001b[1;33m.\u001b[0m\u001b[0msecond\u001b[0m \u001b[1;33m>=\u001b[0m \u001b[1;36m60\u001b[0m\u001b[1;33m:\u001b[0m\u001b[1;33m\u001b[0m\u001b[0m\n\u001b[0;32m     17\u001b[0m             \u001b[0mself\u001b[0m\u001b[1;33m.\u001b[0m\u001b[0msecond\u001b[0m \u001b[1;33m-=\u001b[0m \u001b[1;36m60\u001b[0m\u001b[1;33m\u001b[0m\u001b[0m\n",
      "\u001b[1;31mTypeError\u001b[0m: unsupported operand type(s) for +=: 'float' and 'str'"
     ]
    }
   ],
   "source": [
    "# what about a string\n",
    "t2.increment('30')\n",
    "t2.print_time()"
   ]
  },
  {
   "cell_type": "markdown",
   "metadata": {},
   "source": [
    "#### Quiz\n",
    "\n",
    "How can we re-write it to work with strings too?"
   ]
  },
  {
   "cell_type": "markdown",
   "metadata": {},
   "source": [
    "### Str to Int function inside"
   ]
  },
  {
   "cell_type": "code",
   "execution_count": 85,
   "metadata": {},
   "outputs": [],
   "source": [
    "\n",
    "class Time(object):\n",
    "    \"\"\"Represents the time of day.\n",
    "    attributes: hour, minute, second\n",
    "    \"\"\"\n",
    "    def __init__(self, hour=0, minute=0, second=0):\n",
    "        if(type(hour)==\"str\"):\n",
    "            self.hour = int(hour)\n",
    "        else:\n",
    "            self.hour = hour\n",
    "            \n",
    "        if(type(minute)==\"str\"):\n",
    "            self.minute = int(minute)\n",
    "        else:\n",
    "            self.minute = minute\n",
    "            \n",
    "        if(type(second)==\"str\"):\n",
    "            self.second = int(second)\n",
    "        else:\n",
    "            self.second = second\n",
    "    \n",
    "    def print_time(self):\n",
    "        print(str(self.hour) + ':' + str(self.minute) + ':' + str(self.second))\n",
    "        \n",
    "    def increment(self, seconds):\n",
    "        self.second = int(self.second)\n",
    "        self.second += int(seconds)\n",
    "        if int(self.second) >= 60:\n",
    "            self.second -= 60\n",
    "            self.minute += 1\n",
    "        if int(self.minute) >= 60:\n",
    "            self.minute -= 60\n",
    "            self.hour += 1"
   ]
  },
  {
   "cell_type": "code",
   "execution_count": 86,
   "metadata": {},
   "outputs": [
    {
     "name": "stdout",
     "output_type": "stream",
     "text": [
      "9:45:43\n"
     ]
    }
   ],
   "source": [
    "t2 = Time(\"9\", \"45\", \"13\")\n",
    "t2.increment(\"30\")\n",
    "t2.print_time()"
   ]
  }
 ],
 "metadata": {
  "anaconda-cloud": {},
  "kernelspec": {
   "display_name": "Python 3",
   "language": "python",
   "name": "python3"
  },
  "language_info": {
   "codemirror_mode": {
    "name": "ipython",
    "version": 3
   },
   "file_extension": ".py",
   "mimetype": "text/x-python",
   "name": "python",
   "nbconvert_exporter": "python",
   "pygments_lexer": "ipython3",
   "version": "3.6.3"
  }
 },
 "nbformat": 4,
 "nbformat_minor": 1
}
